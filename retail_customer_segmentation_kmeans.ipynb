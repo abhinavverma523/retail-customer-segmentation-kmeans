{
  "nbformat": 4,
  "nbformat_minor": 0,
  "metadata": {
    "colab": {
      "provenance": [],
      "authorship_tag": "ABX9TyNc7Wi+isQnMkc0bo0R503X",
      "include_colab_link": true
    },
    "kernelspec": {
      "name": "python3",
      "display_name": "Python 3"
    },
    "language_info": {
      "name": "python"
    }
  },
  "cells": [
    {
      "cell_type": "markdown",
      "metadata": {
        "id": "view-in-github",
        "colab_type": "text"
      },
      "source": [
        "<a href=\"https://colab.research.google.com/github/abhinavverma523/retail-customer-segmentation-kmeans/blob/main/retail_customer_segmentation_kmeans.ipynb\" target=\"_parent\"><img src=\"https://colab.research.google.com/assets/colab-badge.svg\" alt=\"Open In Colab\"/></a>"
      ]
    },
    {
      "cell_type": "markdown",
      "source": [
        "**examine the customer data**"
      ],
      "metadata": {
        "id": "tUib6RuL0TjR"
      }
    },
    {
      "cell_type": "code",
      "source": [
        "!pip install -U kaleido"
      ],
      "metadata": {
        "colab": {
          "base_uri": "https://localhost:8080/"
        },
        "id": "Ziywwz7x8PWj",
        "outputId": "030d3e2f-e0a0-4ce3-d65e-dcf00c178a10"
      },
      "execution_count": 1,
      "outputs": [
        {
          "output_type": "stream",
          "name": "stdout",
          "text": [
            "Requirement already satisfied: kaleido in /usr/local/lib/python3.12/dist-packages (1.0.0)\n",
            "Requirement already satisfied: choreographer>=1.0.5 in /usr/local/lib/python3.12/dist-packages (from kaleido) (1.0.10)\n",
            "Requirement already satisfied: logistro>=1.0.8 in /usr/local/lib/python3.12/dist-packages (from kaleido) (1.1.0)\n",
            "Requirement already satisfied: orjson>=3.10.15 in /usr/local/lib/python3.12/dist-packages (from kaleido) (3.11.3)\n",
            "Requirement already satisfied: packaging in /usr/local/lib/python3.12/dist-packages (from kaleido) (25.0)\n",
            "Requirement already satisfied: simplejson>=3.19.3 in /usr/local/lib/python3.12/dist-packages (from choreographer>=1.0.5->kaleido) (3.20.1)\n"
          ]
        }
      ]
    },
    {
      "cell_type": "code",
      "source": [
        "import pandas as pd\n",
        "import numpy as np"
      ],
      "metadata": {
        "id": "xeabzQXX09ng"
      },
      "execution_count": 2,
      "outputs": []
    },
    {
      "cell_type": "markdown",
      "source": [
        "**Load the data**"
      ],
      "metadata": {
        "id": "GwHnBXzH1IqA"
      }
    },
    {
      "cell_type": "code",
      "source": [
        "df = pd.read_csv('/content/Mall_Customers 2.csv')"
      ],
      "metadata": {
        "id": "Nr7hSs7C1Jy7"
      },
      "execution_count": 3,
      "outputs": []
    },
    {
      "cell_type": "markdown",
      "source": [
        "**Display basic information about the dataset**"
      ],
      "metadata": {
        "id": "K_CmVPyh1RrP"
      }
    },
    {
      "cell_type": "code",
      "source": [
        "print(\"CUSTOMER DATA OVERVIEW:\")\n",
        "print(\"=\"*40)\n",
        "print(f\"Dataset shape: {df.shape}\")\n",
        "print(f\"Number of customers: {len(df)}\")\n",
        "print()\n",
        "\n",
        "print(\"FIRST 10 CUSTOMERS:\")\n",
        "print(df.head(10))\n",
        "print()\n",
        "\n",
        "print(\"DATASET INFO:\")\n",
        "print(df.info())\n",
        "print()\n",
        "\n",
        "print(\"STATISTICAL SUMMARY:\")\n",
        "print(df.describe())\n",
        "print()\n",
        "\n",
        "print(\"GENDER DISTRIBUTION:\")\n",
        "print(df['Gender'].value_counts())"
      ],
      "metadata": {
        "colab": {
          "base_uri": "https://localhost:8080/"
        },
        "id": "owQNxCsv1TO0",
        "outputId": "10afc7c7-1a48-4925-c5a1-d0e4556c13b9"
      },
      "execution_count": 4,
      "outputs": [
        {
          "output_type": "stream",
          "name": "stdout",
          "text": [
            "CUSTOMER DATA OVERVIEW:\n",
            "========================================\n",
            "Dataset shape: (200, 5)\n",
            "Number of customers: 200\n",
            "\n",
            "FIRST 10 CUSTOMERS:\n",
            "   CustomerID  Gender  Age  Annual Income (k$)  Spending Score (1-100)\n",
            "0           1    Male   19                  15                      39\n",
            "1           2    Male   21                  15                      81\n",
            "2           3  Female   20                  16                       6\n",
            "3           4  Female   23                  16                      77\n",
            "4           5  Female   31                  17                      40\n",
            "5           6  Female   22                  17                      76\n",
            "6           7  Female   35                  18                       6\n",
            "7           8  Female   23                  18                      94\n",
            "8           9    Male   64                  19                       3\n",
            "9          10  Female   30                  19                      72\n",
            "\n",
            "DATASET INFO:\n",
            "<class 'pandas.core.frame.DataFrame'>\n",
            "RangeIndex: 200 entries, 0 to 199\n",
            "Data columns (total 5 columns):\n",
            " #   Column                  Non-Null Count  Dtype \n",
            "---  ------                  --------------  ----- \n",
            " 0   CustomerID              200 non-null    int64 \n",
            " 1   Gender                  200 non-null    object\n",
            " 2   Age                     200 non-null    int64 \n",
            " 3   Annual Income (k$)      200 non-null    int64 \n",
            " 4   Spending Score (1-100)  200 non-null    int64 \n",
            "dtypes: int64(4), object(1)\n",
            "memory usage: 7.9+ KB\n",
            "None\n",
            "\n",
            "STATISTICAL SUMMARY:\n",
            "       CustomerID         Age  Annual Income (k$)  Spending Score (1-100)\n",
            "count  200.000000  200.000000          200.000000              200.000000\n",
            "mean   100.500000   38.850000           60.560000               50.200000\n",
            "std     57.879185   13.969007           26.264721               25.823522\n",
            "min      1.000000   18.000000           15.000000                1.000000\n",
            "25%     50.750000   28.750000           41.500000               34.750000\n",
            "50%    100.500000   36.000000           61.500000               50.000000\n",
            "75%    150.250000   49.000000           78.000000               73.000000\n",
            "max    200.000000   70.000000          137.000000               99.000000\n",
            "\n",
            "GENDER DISTRIBUTION:\n",
            "Gender\n",
            "Female    112\n",
            "Male       88\n",
            "Name: count, dtype: int64\n"
          ]
        }
      ]
    },
    {
      "cell_type": "markdown",
      "source": [
        "***Applying data preprocessing steps for K-means clustering on customer purchase features in preparation for segmentation analysis.***"
      ],
      "metadata": {
        "id": "tHgPRBR01YyI"
      }
    },
    {
      "cell_type": "markdown",
      "source": [
        "**Import required libraries for clustering and visualization**"
      ],
      "metadata": {
        "id": "iYEkyANq1pBG"
      }
    },
    {
      "cell_type": "code",
      "source": [
        "import matplotlib.pyplot as plt\n",
        "import seaborn as sns\n",
        "from sklearn.cluster import KMeans\n",
        "from sklearn.preprocessing import StandardScaler\n",
        "from sklearn.metrics import silhouette_score\n",
        "import warnings\n",
        "warnings.filterwarnings('ignore')"
      ],
      "metadata": {
        "id": "M7hJ3fPk1XbO"
      },
      "execution_count": 5,
      "outputs": []
    },
    {
      "cell_type": "markdown",
      "source": [
        "**Set up plotting style**"
      ],
      "metadata": {
        "id": "Q4YVI0-F11re"
      }
    },
    {
      "cell_type": "code",
      "source": [
        "plt.style.use('default')\n",
        "sns.set_palette(\"husl\")\n"
      ],
      "metadata": {
        "id": "xz-20-JF13Jh"
      },
      "execution_count": 6,
      "outputs": []
    },
    {
      "cell_type": "markdown",
      "source": [
        "Prepare the data for clustering\n",
        "Select features for clustering: Age, Annual Income, and Spending Score"
      ],
      "metadata": {
        "id": "0MxUTmdd1_fX"
      }
    },
    {
      "cell_type": "code",
      "source": [
        "clustering_features = ['Age', 'Annual Income (k$)', 'Spending Score (1-100)']\n",
        "X = df[clustering_features].copy()\n",
        "\n",
        "print(\"FEATURES SELECTED FOR CLUSTERING:\")\n",
        "print(\"=\"*40)\n",
        "for i, feature in enumerate(clustering_features):\n",
        "    print(f\"{i+1}. {feature}\")\n",
        "\n",
        "print(f\"\\nClustering data shape: {X.shape}\")\n",
        "print(\"\\nFirst 5 rows of clustering data:\")\n",
        "print(X.head())"
      ],
      "metadata": {
        "colab": {
          "base_uri": "https://localhost:8080/"
        },
        "id": "PdEZjrXX2Qms",
        "outputId": "67488cb1-0830-493a-fb24-265f318c7fac"
      },
      "execution_count": 7,
      "outputs": [
        {
          "output_type": "stream",
          "name": "stdout",
          "text": [
            "FEATURES SELECTED FOR CLUSTERING:\n",
            "========================================\n",
            "1. Age\n",
            "2. Annual Income (k$)\n",
            "3. Spending Score (1-100)\n",
            "\n",
            "Clustering data shape: (200, 3)\n",
            "\n",
            "First 5 rows of clustering data:\n",
            "   Age  Annual Income (k$)  Spending Score (1-100)\n",
            "0   19                  15                      39\n",
            "1   21                  15                      81\n",
            "2   20                  16                       6\n",
            "3   23                  16                      77\n",
            "4   31                  17                      40\n"
          ]
        }
      ]
    },
    {
      "cell_type": "markdown",
      "source": [
        "**Check for missing values**"
      ],
      "metadata": {
        "id": "zvTCZcf62VH_"
      }
    },
    {
      "cell_type": "code",
      "source": [
        "print(f\"\\nMissing values: {X.isnull().sum().sum()}\")\n"
      ],
      "metadata": {
        "colab": {
          "base_uri": "https://localhost:8080/"
        },
        "id": "03SUOWeY2aTP",
        "outputId": "705326a3-8a75-49b9-93cf-8e26038d8c5d"
      },
      "execution_count": 8,
      "outputs": [
        {
          "output_type": "stream",
          "name": "stdout",
          "text": [
            "\n",
            "Missing values: 0\n"
          ]
        }
      ]
    },
    {
      "cell_type": "markdown",
      "source": [
        "**Scale the features for better clustering performance**"
      ],
      "metadata": {
        "id": "WCu6bOoA2dww"
      }
    },
    {
      "cell_type": "code",
      "source": [
        "scaler = StandardScaler()\n",
        "X_scaled = scaler.fit_transform(X)\n",
        "\n",
        "print(\"\\nData standardized successfully!\")\n",
        "print(f\"Scaled data shape: {X_scaled.shape}\")"
      ],
      "metadata": {
        "colab": {
          "base_uri": "https://localhost:8080/"
        },
        "id": "Xsrru5Pd2j-Q",
        "outputId": "6dcb9d16-d748-4b3d-f7cf-67c371a5fed3"
      },
      "execution_count": 9,
      "outputs": [
        {
          "output_type": "stream",
          "name": "stdout",
          "text": [
            "\n",
            "Data standardized successfully!\n",
            "Scaled data shape: (200, 3)\n"
          ]
        }
      ]
    },
    {
      "cell_type": "markdown",
      "source": [
        "***Calculating the optimal number of customer segments using the elbow method and silhouette scores for clustering analysis.***"
      ],
      "metadata": {
        "id": "Ovc8RDC22nlf"
      }
    },
    {
      "cell_type": "markdown",
      "source": [
        "**Find optimal number of clusters using Elbow Method and Silhouette Analysis**"
      ],
      "metadata": {
        "id": "pKfNDPOz2vID"
      }
    },
    {
      "cell_type": "code",
      "source": [
        "def find_optimal_clusters(X_scaled, max_k=10):\n",
        "    \"\"\"\n",
        "    Find optimal number of clusters using elbow method and silhouette analysis\n",
        "    \"\"\"\n",
        "    inertias = []\n",
        "    silhouette_scores = []\n",
        "    K_range = range(2, max_k + 1)\n",
        "\n",
        "    for k in K_range:\n",
        "        kmeans = KMeans(n_clusters=k, random_state=42, n_init=10)\n",
        "        kmeans.fit(X_scaled)\n",
        "        inertias.append(kmeans.inertia_)\n",
        "        silhouette_scores.append(silhouette_score(X_scaled, kmeans.labels_))\n",
        "\n",
        "    return K_range, inertias, silhouette_scores"
      ],
      "metadata": {
        "id": "FhmIvBgm22k3"
      },
      "execution_count": 10,
      "outputs": []
    },
    {
      "cell_type": "markdown",
      "source": [
        "**Calculate metrics for different cluster numbers**"
      ],
      "metadata": {
        "id": "WkE2ebf229Fw"
      }
    },
    {
      "cell_type": "code",
      "source": [
        "K_range, inertias, silhouette_scores = find_optimal_clusters(X_scaled)\n",
        "\n",
        "print(\"CLUSTER EVALUATION RESULTS:\")\n",
        "print(\"=\"*40)\n",
        "print(\"K\\tInertia\\t\\tSilhouette Score\")\n",
        "print(\"-\"*40)\n",
        "for k, inertia, sil_score in zip(K_range, inertias, silhouette_scores):\n",
        "    print(f\"{k}\\t{inertia:.2f}\\t\\t{sil_score:.3f}\")"
      ],
      "metadata": {
        "colab": {
          "base_uri": "https://localhost:8080/"
        },
        "id": "MdqbhhOb2-nc",
        "outputId": "1cee7bdd-4238-402c-d6bd-38d0b99be0c1"
      },
      "execution_count": 12,
      "outputs": [
        {
          "output_type": "stream",
          "name": "stdout",
          "text": [
            "CLUSTER EVALUATION RESULTS:\n",
            "========================================\n",
            "K\tInertia\t\tSilhouette Score\n",
            "----------------------------------------\n",
            "2\t389.39\t\t0.335\n",
            "3\t295.21\t\t0.358\n",
            "4\t205.23\t\t0.404\n",
            "5\t168.25\t\t0.417\n",
            "6\t133.87\t\t0.428\n",
            "7\t117.01\t\t0.417\n",
            "8\t103.87\t\t0.408\n",
            "9\t93.09\t\t0.418\n",
            "10\t82.39\t\t0.407\n"
          ]
        }
      ]
    },
    {
      "cell_type": "markdown",
      "source": [
        "Find optimal k based on highest silhouette score"
      ],
      "metadata": {
        "id": "4OFHFFn63LGS"
      }
    },
    {
      "cell_type": "code",
      "source": [
        "optimal_k = K_range[silhouette_scores.index(max(silhouette_scores))]\n",
        "print(f\"\\nOptimal number of clusters (highest silhouette): {optimal_k}\")\n",
        "print(f\"Silhouette score: {max(silhouette_scores):.3f}\")\n"
      ],
      "metadata": {
        "colab": {
          "base_uri": "https://localhost:8080/"
        },
        "id": "7YjGKPFL3Q4V",
        "outputId": "fd9faf96-ffc1-425f-9e9f-5189407c8606"
      },
      "execution_count": 13,
      "outputs": [
        {
          "output_type": "stream",
          "name": "stdout",
          "text": [
            "\n",
            "Optimal number of clusters (highest silhouette): 6\n",
            "Silhouette score: 0.428\n"
          ]
        }
      ]
    },
    {
      "cell_type": "markdown",
      "source": [
        "**Also check elbow method manually**"
      ],
      "metadata": {
        "id": "uiPZlBOo285b"
      }
    },
    {
      "cell_type": "code",
      "source": [
        "print(f\"\\nInertia reduction from k=2 to k=3: {inertias[0] - inertias[1]:.2f}\")\n",
        "print(f\"Inertia reduction from k=3 to k=4: {inertias[1] - inertias[2]:.2f}\")\n",
        "print(f\"Inertia reduction from k=4 to k=5: {inertias[2] - inertias[3]:.2f}\")"
      ],
      "metadata": {
        "colab": {
          "base_uri": "https://localhost:8080/"
        },
        "id": "dMAhdD143ZtC",
        "outputId": "4cb6ecb7-87c3-41a4-8b0e-4bd86bd1c8f7"
      },
      "execution_count": 14,
      "outputs": [
        {
          "output_type": "stream",
          "name": "stdout",
          "text": [
            "\n",
            "Inertia reduction from k=2 to k=3: 94.17\n",
            "Inertia reduction from k=3 to k=4: 89.99\n",
            "Inertia reduction from k=4 to k=5: 36.98\n"
          ]
        }
      ]
    },
    {
      "cell_type": "markdown",
      "source": [
        "***Applying K-means clustering with the optimal number of customer segments based on purchase behavior and demographics.***"
      ],
      "metadata": {
        "id": "Pa3VDig93gii"
      }
    },
    {
      "cell_type": "code",
      "source": [
        "# Apply K-means clustering with optimal number of clusters\n",
        "# Using k=5 for better business interpretability\n",
        "k_clusters = 5\n",
        "\n",
        "print(f\"APPLYING K-MEANS CLUSTERING WITH {k_clusters} CLUSTERS:\")\n",
        "print(\"=\"*50)\n",
        "\n",
        "# Fit K-means model\n",
        "kmeans = KMeans(n_clusters=k_clusters, random_state=42, n_init=10)\n",
        "cluster_labels = kmeans.fit_predict(X_scaled)\n",
        "\n",
        "# Add cluster labels to original dataframe\n",
        "df_clustered = df.copy()\n",
        "df_clustered['Cluster'] = cluster_labels\n",
        "\n",
        "# Calculate cluster centers (in original scale)\n",
        "cluster_centers_scaled = kmeans.cluster_centers_\n",
        "cluster_centers_original = scaler.inverse_transform(cluster_centers_scaled)\n",
        "\n",
        "# Create cluster summary\n",
        "print(\"CLUSTER CENTERS (Original Scale):\")\n",
        "print(\"-\"*50)\n",
        "cluster_summary = pd.DataFrame(\n",
        "    cluster_centers_original,\n",
        "    columns=clustering_features,\n",
        "    index=[f'Cluster {i}' for i in range(k_clusters)]\n",
        ")\n",
        "print(cluster_summary.round(2))\n",
        "\n",
        "print(f\"\\nCLUSTER SIZES:\")\n",
        "print(\"-\"*20)\n",
        "cluster_counts = pd.Series(cluster_labels).value_counts().sort_index()\n",
        "for cluster, count in cluster_counts.items():\n",
        "    percentage = (count / len(df_clustered)) * 100\n",
        "    print(f\"Cluster {cluster}: {count} customers ({percentage:.1f}%)\")\n",
        "\n",
        "print(f\"\\nSILHOUETTE SCORE: {silhouette_score(X_scaled, cluster_labels):.3f}\")\n",
        "print(f\"WITHIN-CLUSTER SUM OF SQUARES: {kmeans.inertia_:.2f}\")"
      ],
      "metadata": {
        "colab": {
          "base_uri": "https://localhost:8080/"
        },
        "id": "zmjjHuMC3v7r",
        "outputId": "7a68dbe8-bd56-4e3d-c43d-bfa034e8aa36"
      },
      "execution_count": 15,
      "outputs": [
        {
          "output_type": "stream",
          "name": "stdout",
          "text": [
            "APPLYING K-MEANS CLUSTERING WITH 5 CLUSTERS:\n",
            "==================================================\n",
            "CLUSTER CENTERS (Original Scale):\n",
            "--------------------------------------------------\n",
            "             Age  Annual Income (k$)  Spending Score (1-100)\n",
            "Cluster 0  46.25               26.75                   18.35\n",
            "Cluster 1  25.19               41.09                   62.24\n",
            "Cluster 2  32.88               86.10                   81.53\n",
            "Cluster 3  39.87               86.10                   19.36\n",
            "Cluster 4  55.64               54.38                   48.85\n",
            "\n",
            "CLUSTER SIZES:\n",
            "--------------------\n",
            "Cluster 0: 20 customers (10.0%)\n",
            "Cluster 1: 54 customers (27.0%)\n",
            "Cluster 2: 40 customers (20.0%)\n",
            "Cluster 3: 39 customers (19.5%)\n",
            "Cluster 4: 47 customers (23.5%)\n",
            "\n",
            "SILHOUETTE SCORE: 0.417\n",
            "WITHIN-CLUSTER SUM OF SQUARES: 168.25\n"
          ]
        }
      ]
    },
    {
      "cell_type": "markdown",
      "source": [
        "***Analyzing detailed customer clusters to gain insights and tailor marketing strategies for each segment.***"
      ],
      "metadata": {
        "id": "Hva5CUhX30Ct"
      }
    },
    {
      "cell_type": "markdown",
      "source": [
        "**Detailed cluster analysis**"
      ],
      "metadata": {
        "id": "OcHCJB0L4SBH"
      }
    },
    {
      "cell_type": "code",
      "source": [
        "print(\"DETAILED CLUSTER ANALYSIS:\")\n",
        "print(\"=\"*60)\n",
        "\n",
        "cluster_names = {\n",
        "    0: \"Budget Shoppers\",\n",
        "    1: \"Young Spenders\",\n",
        "    2: \"High Value Customers\",\n",
        "    3: \"Conservative High Earners\",\n",
        "    4: \"Mature Moderates\"\n",
        "}"
      ],
      "metadata": {
        "colab": {
          "base_uri": "https://localhost:8080/"
        },
        "id": "eeUAn1Yu4RiV",
        "outputId": "c5a06e16-6f12-4eb3-a42a-2bfeb6e44cac"
      },
      "execution_count": 16,
      "outputs": [
        {
          "output_type": "stream",
          "name": "stdout",
          "text": [
            "DETAILED CLUSTER ANALYSIS:\n",
            "============================================================\n"
          ]
        }
      ]
    },
    {
      "cell_type": "markdown",
      "source": [
        "**Analyze each cluster**"
      ],
      "metadata": {
        "id": "xW2gWZaF4d1j"
      }
    },
    {
      "cell_type": "code",
      "source": [
        "for cluster_id in range(k_clusters):\n",
        "    cluster_data = df_clustered[df_clustered['Cluster'] == cluster_id]\n",
        "\n",
        "    print(f\"\\n{cluster_names[cluster_id].upper()} (Cluster {cluster_id}):\")\n",
        "    print(\"-\" * 40)\n",
        "    print(f\"Size: {len(cluster_data)} customers ({len(cluster_data)/len(df_clustered)*100:.1f}%)\")\n",
        "\n",
        "    # Age analysis\n",
        "    print(f\"Age: {cluster_data['Age'].mean():.1f} ± {cluster_data['Age'].std():.1f} years\")\n",
        "    print(f\"Age Range: {cluster_data['Age'].min()}-{cluster_data['Age'].max()} years\")"
      ],
      "metadata": {
        "colab": {
          "base_uri": "https://localhost:8080/"
        },
        "id": "N4BPi-A_4hCY",
        "outputId": "77a2c447-9cbe-4499-a5b0-1e49bba0ac54"
      },
      "execution_count": 17,
      "outputs": [
        {
          "output_type": "stream",
          "name": "stdout",
          "text": [
            "\n",
            "BUDGET SHOPPERS (Cluster 0):\n",
            "----------------------------------------\n",
            "Size: 20 customers (10.0%)\n",
            "Age: 46.2 ± 11.6 years\n",
            "Age Range: 20-67 years\n",
            "\n",
            "YOUNG SPENDERS (Cluster 1):\n",
            "----------------------------------------\n",
            "Size: 54 customers (27.0%)\n",
            "Age: 25.2 ± 5.5 years\n",
            "Age Range: 18-38 years\n",
            "\n",
            "HIGH VALUE CUSTOMERS (Cluster 2):\n",
            "----------------------------------------\n",
            "Size: 40 customers (20.0%)\n",
            "Age: 32.9 ± 3.9 years\n",
            "Age Range: 27-40 years\n",
            "\n",
            "CONSERVATIVE HIGH EARNERS (Cluster 3):\n",
            "----------------------------------------\n",
            "Size: 39 customers (19.5%)\n",
            "Age: 39.9 ± 10.9 years\n",
            "Age Range: 19-59 years\n",
            "\n",
            "MATURE MODERATES (Cluster 4):\n",
            "----------------------------------------\n",
            "Size: 47 customers (23.5%)\n",
            "Age: 55.6 ± 8.9 years\n",
            "Age Range: 40-70 years\n"
          ]
        }
      ]
    },
    {
      "cell_type": "markdown",
      "source": [
        "**Age analysis**"
      ],
      "metadata": {
        "id": "_zjKM_B54u_V"
      }
    },
    {
      "cell_type": "code",
      "source": [
        "print(f\"Age: {cluster_data['Age'].mean():.1f} ± {cluster_data['Age'].std():.1f} years\")\n",
        "print(f\"Age Range: {cluster_data['Age'].min()}-{cluster_data['Age'].max()} years\")\n"
      ],
      "metadata": {
        "colab": {
          "base_uri": "https://localhost:8080/"
        },
        "id": "S2p-ize14w7C",
        "outputId": "18bf8cb5-1aa1-4900-fcff-092dbf7e92c4"
      },
      "execution_count": 18,
      "outputs": [
        {
          "output_type": "stream",
          "name": "stdout",
          "text": [
            "Age: 55.6 ± 8.9 years\n",
            "Age Range: 40-70 years\n"
          ]
        }
      ]
    },
    {
      "cell_type": "markdown",
      "source": [
        "**Income analysis**"
      ],
      "metadata": {
        "id": "XTzE7MPJ494S"
      }
    },
    {
      "cell_type": "code",
      "source": [
        "print(f\"Income: ${cluster_data['Annual Income (k$)'].mean():.1f}k ± ${cluster_data['Annual Income (k$)'].std():.1f}k\")\n",
        "print(f\"Income Range: ${cluster_data['Annual Income (k$)'].min()}k-${cluster_data['Annual Income (k$)'].max()}k\")"
      ],
      "metadata": {
        "colab": {
          "base_uri": "https://localhost:8080/"
        },
        "id": "js2cy84Q4_V9",
        "outputId": "48c1a3dd-6d26-48bc-e4dd-182f6f0a2b15"
      },
      "execution_count": 19,
      "outputs": [
        {
          "output_type": "stream",
          "name": "stdout",
          "text": [
            "Income: $54.4k ± $8.8k\n",
            "Income Range: $38k-$79k\n"
          ]
        }
      ]
    },
    {
      "cell_type": "markdown",
      "source": [
        "**Spending analysis**"
      ],
      "metadata": {
        "id": "BC3HmMdm5Goi"
      }
    },
    {
      "cell_type": "code",
      "source": [
        "print(f\"Spending Score: {cluster_data['Spending Score (1-100)'].mean():.1f} ± {cluster_data['Spending Score (1-100)'].std():.1f}\")\n",
        "print(f\"Spending Range: {cluster_data['Spending Score (1-100)'].min()}-{cluster_data['Spending Score (1-100)'].max()}\")"
      ],
      "metadata": {
        "colab": {
          "base_uri": "https://localhost:8080/"
        },
        "id": "V4ziHmbP5Kgh",
        "outputId": "d247e4e1-fe6c-41a9-db9f-a996d3ea19e7"
      },
      "execution_count": 20,
      "outputs": [
        {
          "output_type": "stream",
          "name": "stdout",
          "text": [
            "Spending Score: 48.9 ± 6.3\n",
            "Spending Range: 35-60\n"
          ]
        }
      ]
    },
    {
      "cell_type": "markdown",
      "source": [
        "**Gender distribution**"
      ],
      "metadata": {
        "id": "SGpYdbw75PyC"
      }
    },
    {
      "cell_type": "code",
      "source": [
        "gender_dist = cluster_data['Gender'].value_counts()\n",
        "print(f\"Gender: {gender_dist.to_dict()}\")"
      ],
      "metadata": {
        "colab": {
          "base_uri": "https://localhost:8080/"
        },
        "id": "4VcI9S0B5Suf",
        "outputId": "bba8a06d-497c-4e4f-f335-0fe52ab93a99"
      },
      "execution_count": 21,
      "outputs": [
        {
          "output_type": "stream",
          "name": "stdout",
          "text": [
            "Gender: {'Female': 27, 'Male': 20}\n"
          ]
        }
      ]
    },
    {
      "cell_type": "markdown",
      "source": [
        "**Business insights**"
      ],
      "metadata": {
        "id": "ysCgkVHh5Y-u"
      }
    },
    {
      "cell_type": "code",
      "source": [
        "print(\"\\n\" + \"=\"*60)\n",
        "print(\"BUSINESS INSIGHTS & RECOMMENDATIONS:\")\n",
        "print(\"=\"*60)\n",
        "\n",
        "insights = {\n",
        "    0: \"Budget-conscious older customers with limited spending. Focus on value deals and essential products.\",\n",
        "    1: \"Young customers with moderate income but high spending willingness. Target with trendy products and flexible payment options.\",\n",
        "    2: \"Premium customers - high income and high spending. Focus on luxury products, premium services, and VIP treatment.\",\n",
        "    3: \"High earners but conservative spenders. Target with quality, investment-worthy products and highlight long-term value.\",\n",
        "    4: \"Stable middle-aged customers with moderate behavior. Focus on family-oriented products and loyalty programs.\"\n",
        "}\n",
        "\n",
        "for cluster_id, insight in insights.items():\n",
        "    print(f\"\\n{cluster_names[cluster_id]}: {insight}\")"
      ],
      "metadata": {
        "colab": {
          "base_uri": "https://localhost:8080/"
        },
        "id": "ECuehDUy5aK3",
        "outputId": "d0cff5a6-13a5-4be6-d578-a29dcdc1767c"
      },
      "execution_count": 22,
      "outputs": [
        {
          "output_type": "stream",
          "name": "stdout",
          "text": [
            "\n",
            "============================================================\n",
            "BUSINESS INSIGHTS & RECOMMENDATIONS:\n",
            "============================================================\n",
            "\n",
            "Budget Shoppers: Budget-conscious older customers with limited spending. Focus on value deals and essential products.\n",
            "\n",
            "Young Spenders: Young customers with moderate income but high spending willingness. Target with trendy products and flexible payment options.\n",
            "\n",
            "High Value Customers: Premium customers - high income and high spending. Focus on luxury products, premium services, and VIP treatment.\n",
            "\n",
            "Conservative High Earners: High earners but conservative spenders. Target with quality, investment-worthy products and highlight long-term value.\n",
            "\n",
            "Mature Moderates: Stable middle-aged customers with moderate behavior. Focus on family-oriented products and loyalty programs.\n"
          ]
        }
      ]
    },
    {
      "cell_type": "markdown",
      "source": [
        "***Saving the clustering results and generating detailed summaries for customer segmentation analysis.***"
      ],
      "metadata": {
        "id": "b7ka-8I45niV"
      }
    },
    {
      "cell_type": "markdown",
      "source": [
        "**Save the clustering results to CSV for visualization**"
      ],
      "metadata": {
        "id": "Q2M-cIsb6BBI"
      }
    },
    {
      "cell_type": "code",
      "source": [
        "df_clustered['Cluster_Name'] = df_clustered['Cluster'].map(cluster_names)"
      ],
      "metadata": {
        "id": "7RwYyWIE6GhM"
      },
      "execution_count": 23,
      "outputs": []
    },
    {
      "cell_type": "markdown",
      "source": [
        "**Save the main results**"
      ],
      "metadata": {
        "id": "lD83G_NZ6NiL"
      }
    },
    {
      "cell_type": "code",
      "source": [
        "df_clustered.to_csv('customer_clusters.csv', index=False)"
      ],
      "metadata": {
        "id": "Lm8O0hP86PFl"
      },
      "execution_count": 24,
      "outputs": []
    },
    {
      "cell_type": "markdown",
      "source": [
        "**Create cluster summary table**"
      ],
      "metadata": {
        "id": "UD-UqHSu6SY9"
      }
    },
    {
      "cell_type": "code",
      "source": [
        "cluster_summary_detailed = pd.DataFrame({\n",
        "    'Cluster_ID': range(k_clusters),\n",
        "    'Cluster_Name': [cluster_names[i] for i in range(k_clusters)],\n",
        "    'Customer_Count': [len(df_clustered[df_clustered['Cluster'] == i]) for i in range(k_clusters)],\n",
        "    'Percentage': [len(df_clustered[df_clustered['Cluster'] == i])/len(df_clustered)*100 for i in range(k_clusters)],\n",
        "    'Avg_Age': [df_clustered[df_clustered['Cluster'] == i]['Age'].mean() for i in range(k_clusters)],\n",
        "    'Avg_Income': [df_clustered[df_clustered['Cluster'] == i]['Annual Income (k$)'].mean() for i in range(k_clusters)],\n",
        "    'Avg_Spending': [df_clustered[df_clustered['Cluster'] == i]['Spending Score (1-100)'].mean() for i in range(k_clusters)]\n",
        "})\n",
        "\n",
        "cluster_summary_detailed.to_csv('cluster_summary.csv', index=False)\n",
        "\n",
        "print(\"SAVED FILES:\")\n",
        "print(\"1. customer_clusters.csv - Full dataset with cluster assignments\")\n",
        "print(\"2. cluster_summary.csv - Cluster summary statistics\")\n",
        "\n",
        "print(f\"\\nCluster Summary Table:\")\n",
        "print(cluster_summary_detailed.round(2))"
      ],
      "metadata": {
        "colab": {
          "base_uri": "https://localhost:8080/"
        },
        "id": "Qv6v31FY6Vg5",
        "outputId": "ab835d62-7f3b-4b34-d2f3-89d99079c74d"
      },
      "execution_count": 25,
      "outputs": [
        {
          "output_type": "stream",
          "name": "stdout",
          "text": [
            "SAVED FILES:\n",
            "1. customer_clusters.csv - Full dataset with cluster assignments\n",
            "2. cluster_summary.csv - Cluster summary statistics\n",
            "\n",
            "Cluster Summary Table:\n",
            "   Cluster_ID               Cluster_Name  Customer_Count  Percentage  Avg_Age  \\\n",
            "0           0            Budget Shoppers              20        10.0    46.25   \n",
            "1           1             Young Spenders              54        27.0    25.19   \n",
            "2           2       High Value Customers              40        20.0    32.88   \n",
            "3           3  Conservative High Earners              39        19.5    39.87   \n",
            "4           4           Mature Moderates              47        23.5    55.64   \n",
            "\n",
            "   Avg_Income  Avg_Spending  \n",
            "0       26.75         18.35  \n",
            "1       41.09         62.24  \n",
            "2       86.10         81.53  \n",
            "3       86.10         19.36  \n",
            "4       54.38         48.85  \n"
          ]
        }
      ]
    },
    {
      "cell_type": "markdown",
      "source": [
        "**Create data for scatter plots**"
      ],
      "metadata": {
        "id": "3Wj7eGKz6cuC"
      }
    },
    {
      "cell_type": "code",
      "source": [
        "income_spending_data = df_clustered[['Annual Income (k$)', 'Spending Score (1-100)', 'Cluster', 'Cluster_Name']].copy()\n",
        "age_spending_data = df_clustered[['Age', 'Spending Score (1-100)', 'Cluster', 'Cluster_Name']].copy()\n",
        "age_income_data = df_clustered[['Age', 'Annual Income (k$)', 'Cluster', 'Cluster_Name']].copy()\n",
        "\n",
        "print(f\"\\nData prepared for visualization!\")\n",
        "print(f\"Ready to create scatter plots and cluster analysis charts.\")"
      ],
      "metadata": {
        "colab": {
          "base_uri": "https://localhost:8080/"
        },
        "id": "XWn3d0Kr6d_D",
        "outputId": "d790fd41-3482-40ae-d122-dcc784b78150"
      },
      "execution_count": 26,
      "outputs": [
        {
          "output_type": "stream",
          "name": "stdout",
          "text": [
            "\n",
            "Data prepared for visualization!\n",
            "Ready to create scatter plots and cluster analysis charts.\n"
          ]
        }
      ]
    },
    {
      "cell_type": "markdown",
      "source": [
        "***Creating a scatter plot to visualize customer segments based on income and spending score using clustering results.***"
      ],
      "metadata": {
        "id": "hykKi2gP6xnj"
      }
    },
    {
      "cell_type": "code",
      "source": [
        "import pandas as pd\n",
        "import plotly.express as px\n",
        "import plotly.graph_objects as go\n",
        "from sklearn.cluster import KMeans\n",
        "import numpy as np"
      ],
      "metadata": {
        "id": "8l3ap0W969W7"
      },
      "execution_count": 27,
      "outputs": []
    },
    {
      "cell_type": "code",
      "source": [
        "df = pd.read_csv(\"/content/Mall_Customers 2.csv\")"
      ],
      "metadata": {
        "id": "Sc5dZOJZ7EAj"
      },
      "execution_count": 28,
      "outputs": []
    },
    {
      "cell_type": "markdown",
      "source": [
        "Create clusters using K-means clustering\n",
        "Use Annual Income and Spending Score for clustering"
      ],
      "metadata": {
        "id": "xT6ax21Q7PoR"
      }
    },
    {
      "cell_type": "code",
      "source": [
        "X = df[['Annual Income (k$)', 'Spending Score (1-100)']]"
      ],
      "metadata": {
        "id": "s2plj2mk7Tl_"
      },
      "execution_count": 29,
      "outputs": []
    },
    {
      "cell_type": "markdown",
      "source": [
        "**Apply K-means clustering with 5 clusters**"
      ],
      "metadata": {
        "id": "DMIW09bO7XDz"
      }
    },
    {
      "cell_type": "code",
      "source": [
        "kmeans = KMeans(n_clusters=5, random_state=42)\n",
        "df['Cluster'] = kmeans.fit_predict(X)\n"
      ],
      "metadata": {
        "id": "RoSOIq-P7cvV"
      },
      "execution_count": 30,
      "outputs": []
    },
    {
      "cell_type": "markdown",
      "source": [
        "**Create cluster names**"
      ],
      "metadata": {
        "id": "KC1xAC-i6_AO"
      }
    },
    {
      "cell_type": "code",
      "source": [
        "cluster_names = {\n",
        "    0: 'Low Income Low Spend',\n",
        "    1: 'High Income Low Spend',\n",
        "    2: 'Medium Income Med Spend',\n",
        "    3: 'Low Income High Spend',\n",
        "    4: 'High Income High Spend'\n",
        "}\n",
        "\n",
        "df['Cluster_Name'] = df['Cluster'].map(cluster_names)\n"
      ],
      "metadata": {
        "id": "czU4ocUk7jOc"
      },
      "execution_count": 31,
      "outputs": []
    },
    {
      "cell_type": "markdown",
      "source": [
        "**Create scatter plot**"
      ],
      "metadata": {
        "id": "UcxpDkgf7maz"
      }
    },
    {
      "cell_type": "code",
      "source": [
        "fig = px.scatter(df,\n",
        "                 x='Annual Income (k$)',\n",
        "                 y='Spending Score (1-100)',\n",
        "                 color='Cluster_Name',\n",
        "                 title='Customer Segmentation: Income vs Spending Score',\n",
        "                 color_discrete_sequence=['#1FB8CD', '#DB4545', '#2E8B57', '#5D878F', '#D2BA4C'])"
      ],
      "metadata": {
        "id": "fc17f8-U7lfk"
      },
      "execution_count": 32,
      "outputs": []
    },
    {
      "cell_type": "code",
      "source": [
        "# Update traces for medium size and transparency\n",
        "fig.update_traces(marker=dict(size=8, opacity=0.7), cliponaxis=False)\n",
        "\n",
        "# Update layout for centered legend (5 items)\n",
        "fig.update_layout(legend=dict(orientation='h', yanchor='bottom', y=1.05, xanchor='center', x=0.5))\n",
        "\n",
        "# Update axis labels to fit 15 character limit\n",
        "fig.update_xaxes(title='Income (k$)')\n",
        "fig.update_yaxes(title='Spending Score')\n"
      ],
      "metadata": {
        "colab": {
          "base_uri": "https://localhost:8080/",
          "height": 542
        },
        "id": "uTfGNTX-7xe8",
        "outputId": "1cfef5d2-9777-40aa-d294-42fe11964dcb"
      },
      "execution_count": 33,
      "outputs": [
        {
          "output_type": "display_data",
          "data": {
            "text/html": [
              "<html>\n",
              "<head><meta charset=\"utf-8\" /></head>\n",
              "<body>\n",
              "    <div>            <script src=\"https://cdnjs.cloudflare.com/ajax/libs/mathjax/2.7.5/MathJax.js?config=TeX-AMS-MML_SVG\"></script><script type=\"text/javascript\">if (window.MathJax && window.MathJax.Hub && window.MathJax.Hub.Config) {window.MathJax.Hub.Config({SVG: {font: \"STIX-Web\"}});}</script>                <script type=\"text/javascript\">window.PlotlyConfig = {MathJaxConfig: 'local'};</script>\n",
              "        <script charset=\"utf-8\" src=\"https://cdn.plot.ly/plotly-2.35.2.min.js\"></script>                <div id=\"82179fbd-9f2e-408a-afec-199bbf50833a\" class=\"plotly-graph-div\" style=\"height:525px; width:100%;\"></div>            <script type=\"text/javascript\">                                    window.PLOTLYENV=window.PLOTLYENV || {};                                    if (document.getElementById(\"82179fbd-9f2e-408a-afec-199bbf50833a\")) {                    Plotly.newPlot(                        \"82179fbd-9f2e-408a-afec-199bbf50833a\",                        [{\"hovertemplate\":\"Cluster_Name=High Income High Spend\\u003cbr\\u003eAnnual Income (k$)=%{x}\\u003cbr\\u003eSpending Score (1-100)=%{y}\\u003cextra\\u003e\\u003c\\u002fextra\\u003e\",\"legendgroup\":\"High Income High Spend\",\"marker\":{\"color\":\"#1FB8CD\",\"symbol\":\"circle\",\"opacity\":0.7,\"size\":8},\"mode\":\"markers\",\"name\":\"High Income High Spend\",\"orientation\":\"v\",\"showlegend\":true,\"x\":[15,16,17,18,19,19,20,20,21,23,24,25,28,28,29,30,33,33,34,37,38,39,39],\"xaxis\":\"x\",\"y\":[39,6,40,6,3,14,15,13,35,29,35,5,14,32,31,4,4,14,17,26,35,36,28],\"yaxis\":\"y\",\"type\":\"scatter\",\"cliponaxis\":false},{\"hovertemplate\":\"Cluster_Name=Medium Income Med Spend\\u003cbr\\u003eAnnual Income (k$)=%{x}\\u003cbr\\u003eSpending Score (1-100)=%{y}\\u003cextra\\u003e\\u003c\\u002fextra\\u003e\",\"legendgroup\":\"Medium Income Med Spend\",\"marker\":{\"color\":\"#DB4545\",\"symbol\":\"circle\",\"opacity\":0.7,\"size\":8},\"mode\":\"markers\",\"name\":\"Medium Income Med Spend\",\"orientation\":\"v\",\"showlegend\":true,\"x\":[15,16,17,18,19,19,20,20,21,23,24,25,28,28,29,30,33,33,34,37,38,39],\"xaxis\":\"x\",\"y\":[81,77,76,94,72,99,77,79,66,98,73,73,82,61,87,73,92,81,73,75,92,65],\"yaxis\":\"y\",\"type\":\"scatter\",\"cliponaxis\":false},{\"hovertemplate\":\"Cluster_Name=Low Income Low Spend\\u003cbr\\u003eAnnual Income (k$)=%{x}\\u003cbr\\u003eSpending Score (1-100)=%{y}\\u003cextra\\u003e\\u003c\\u002fextra\\u003e\",\"legendgroup\":\"Low Income Low Spend\",\"marker\":{\"color\":\"#2E8B57\",\"symbol\":\"circle\",\"opacity\":0.7,\"size\":8},\"mode\":\"markers\",\"name\":\"Low Income Low Spend\",\"orientation\":\"v\",\"showlegend\":true,\"x\":[39,40,40,40,40,42,42,43,43,43,43,44,44,46,46,46,46,47,47,48,48,48,48,48,48,49,49,50,50,54,54,54,54,54,54,54,54,54,54,54,54,57,57,58,58,59,59,60,60,60,60,60,60,61,61,62,62,62,62,62,62,63,63,63,63,63,63,64,64,65,65,65,65,67,67,67,67,69,71,72,76],\"xaxis\":\"x\",\"y\":[61,55,47,42,42,52,60,54,60,45,41,50,46,51,46,56,55,52,59,51,59,50,48,59,47,55,42,49,56,47,54,53,48,52,42,51,55,41,44,57,46,58,55,60,46,55,41,49,40,42,52,47,50,42,49,41,48,59,55,56,42,50,46,43,48,52,54,42,46,48,50,43,59,43,57,56,40,58,35,34,40],\"yaxis\":\"y\",\"type\":\"scatter\",\"cliponaxis\":false},{\"hovertemplate\":\"Cluster_Name=High Income Low Spend\\u003cbr\\u003eAnnual Income (k$)=%{x}\\u003cbr\\u003eSpending Score (1-100)=%{y}\\u003cextra\\u003e\\u003c\\u002fextra\\u003e\",\"legendgroup\":\"High Income Low Spend\",\"marker\":{\"color\":\"#5D878F\",\"symbol\":\"circle\",\"opacity\":0.7,\"size\":8},\"mode\":\"markers\",\"name\":\"High Income Low Spend\",\"orientation\":\"v\",\"showlegend\":true,\"x\":[69,70,71,71,71,72,73,73,74,75,76,77,77,78,78,78,78,78,78,79,81,85,86,87,87,87,88,88,93,97,98,99,101,103,103,113,120,126,137],\"xaxis\":\"x\",\"y\":[91,77,95,75,75,71,88,73,72,93,87,97,74,90,88,76,89,78,73,83,93,75,95,63,75,92,86,69,90,86,88,97,68,85,69,91,79,74,83],\"yaxis\":\"y\",\"type\":\"scatter\",\"cliponaxis\":false},{\"hovertemplate\":\"Cluster_Name=Low Income High Spend\\u003cbr\\u003eAnnual Income (k$)=%{x}\\u003cbr\\u003eSpending Score (1-100)=%{y}\\u003cextra\\u003e\\u003c\\u002fextra\\u003e\",\"legendgroup\":\"Low Income High Spend\",\"marker\":{\"color\":\"#D2BA4C\",\"symbol\":\"circle\",\"opacity\":0.7,\"size\":8},\"mode\":\"markers\",\"name\":\"Low Income High Spend\",\"orientation\":\"v\",\"showlegend\":true,\"x\":[70,71,71,73,73,74,75,77,77,78,78,78,78,78,78,79,81,85,86,87,87,87,88,88,93,97,98,99,101,103,103,113,120,126,137],\"xaxis\":\"x\",\"y\":[29,11,9,5,7,10,5,12,36,22,17,20,16,1,1,35,5,26,20,27,13,10,13,15,14,32,15,39,24,17,23,8,16,28,18],\"yaxis\":\"y\",\"type\":\"scatter\",\"cliponaxis\":false}],                        {\"template\":{\"data\":{\"histogram2dcontour\":[{\"type\":\"histogram2dcontour\",\"colorbar\":{\"outlinewidth\":0,\"ticks\":\"\"},\"colorscale\":[[0.0,\"#0d0887\"],[0.1111111111111111,\"#46039f\"],[0.2222222222222222,\"#7201a8\"],[0.3333333333333333,\"#9c179e\"],[0.4444444444444444,\"#bd3786\"],[0.5555555555555556,\"#d8576b\"],[0.6666666666666666,\"#ed7953\"],[0.7777777777777778,\"#fb9f3a\"],[0.8888888888888888,\"#fdca26\"],[1.0,\"#f0f921\"]]}],\"choropleth\":[{\"type\":\"choropleth\",\"colorbar\":{\"outlinewidth\":0,\"ticks\":\"\"}}],\"histogram2d\":[{\"type\":\"histogram2d\",\"colorbar\":{\"outlinewidth\":0,\"ticks\":\"\"},\"colorscale\":[[0.0,\"#0d0887\"],[0.1111111111111111,\"#46039f\"],[0.2222222222222222,\"#7201a8\"],[0.3333333333333333,\"#9c179e\"],[0.4444444444444444,\"#bd3786\"],[0.5555555555555556,\"#d8576b\"],[0.6666666666666666,\"#ed7953\"],[0.7777777777777778,\"#fb9f3a\"],[0.8888888888888888,\"#fdca26\"],[1.0,\"#f0f921\"]]}],\"heatmap\":[{\"type\":\"heatmap\",\"colorbar\":{\"outlinewidth\":0,\"ticks\":\"\"},\"colorscale\":[[0.0,\"#0d0887\"],[0.1111111111111111,\"#46039f\"],[0.2222222222222222,\"#7201a8\"],[0.3333333333333333,\"#9c179e\"],[0.4444444444444444,\"#bd3786\"],[0.5555555555555556,\"#d8576b\"],[0.6666666666666666,\"#ed7953\"],[0.7777777777777778,\"#fb9f3a\"],[0.8888888888888888,\"#fdca26\"],[1.0,\"#f0f921\"]]}],\"heatmapgl\":[{\"type\":\"heatmapgl\",\"colorbar\":{\"outlinewidth\":0,\"ticks\":\"\"},\"colorscale\":[[0.0,\"#0d0887\"],[0.1111111111111111,\"#46039f\"],[0.2222222222222222,\"#7201a8\"],[0.3333333333333333,\"#9c179e\"],[0.4444444444444444,\"#bd3786\"],[0.5555555555555556,\"#d8576b\"],[0.6666666666666666,\"#ed7953\"],[0.7777777777777778,\"#fb9f3a\"],[0.8888888888888888,\"#fdca26\"],[1.0,\"#f0f921\"]]}],\"contourcarpet\":[{\"type\":\"contourcarpet\",\"colorbar\":{\"outlinewidth\":0,\"ticks\":\"\"}}],\"contour\":[{\"type\":\"contour\",\"colorbar\":{\"outlinewidth\":0,\"ticks\":\"\"},\"colorscale\":[[0.0,\"#0d0887\"],[0.1111111111111111,\"#46039f\"],[0.2222222222222222,\"#7201a8\"],[0.3333333333333333,\"#9c179e\"],[0.4444444444444444,\"#bd3786\"],[0.5555555555555556,\"#d8576b\"],[0.6666666666666666,\"#ed7953\"],[0.7777777777777778,\"#fb9f3a\"],[0.8888888888888888,\"#fdca26\"],[1.0,\"#f0f921\"]]}],\"surface\":[{\"type\":\"surface\",\"colorbar\":{\"outlinewidth\":0,\"ticks\":\"\"},\"colorscale\":[[0.0,\"#0d0887\"],[0.1111111111111111,\"#46039f\"],[0.2222222222222222,\"#7201a8\"],[0.3333333333333333,\"#9c179e\"],[0.4444444444444444,\"#bd3786\"],[0.5555555555555556,\"#d8576b\"],[0.6666666666666666,\"#ed7953\"],[0.7777777777777778,\"#fb9f3a\"],[0.8888888888888888,\"#fdca26\"],[1.0,\"#f0f921\"]]}],\"mesh3d\":[{\"type\":\"mesh3d\",\"colorbar\":{\"outlinewidth\":0,\"ticks\":\"\"}}],\"scatter\":[{\"fillpattern\":{\"fillmode\":\"overlay\",\"size\":10,\"solidity\":0.2},\"type\":\"scatter\"}],\"parcoords\":[{\"type\":\"parcoords\",\"line\":{\"colorbar\":{\"outlinewidth\":0,\"ticks\":\"\"}}}],\"scatterpolargl\":[{\"type\":\"scatterpolargl\",\"marker\":{\"colorbar\":{\"outlinewidth\":0,\"ticks\":\"\"}}}],\"bar\":[{\"error_x\":{\"color\":\"#2a3f5f\"},\"error_y\":{\"color\":\"#2a3f5f\"},\"marker\":{\"line\":{\"color\":\"#E5ECF6\",\"width\":0.5},\"pattern\":{\"fillmode\":\"overlay\",\"size\":10,\"solidity\":0.2}},\"type\":\"bar\"}],\"scattergeo\":[{\"type\":\"scattergeo\",\"marker\":{\"colorbar\":{\"outlinewidth\":0,\"ticks\":\"\"}}}],\"scatterpolar\":[{\"type\":\"scatterpolar\",\"marker\":{\"colorbar\":{\"outlinewidth\":0,\"ticks\":\"\"}}}],\"histogram\":[{\"marker\":{\"pattern\":{\"fillmode\":\"overlay\",\"size\":10,\"solidity\":0.2}},\"type\":\"histogram\"}],\"scattergl\":[{\"type\":\"scattergl\",\"marker\":{\"colorbar\":{\"outlinewidth\":0,\"ticks\":\"\"}}}],\"scatter3d\":[{\"type\":\"scatter3d\",\"line\":{\"colorbar\":{\"outlinewidth\":0,\"ticks\":\"\"}},\"marker\":{\"colorbar\":{\"outlinewidth\":0,\"ticks\":\"\"}}}],\"scattermapbox\":[{\"type\":\"scattermapbox\",\"marker\":{\"colorbar\":{\"outlinewidth\":0,\"ticks\":\"\"}}}],\"scatterternary\":[{\"type\":\"scatterternary\",\"marker\":{\"colorbar\":{\"outlinewidth\":0,\"ticks\":\"\"}}}],\"scattercarpet\":[{\"type\":\"scattercarpet\",\"marker\":{\"colorbar\":{\"outlinewidth\":0,\"ticks\":\"\"}}}],\"carpet\":[{\"aaxis\":{\"endlinecolor\":\"#2a3f5f\",\"gridcolor\":\"white\",\"linecolor\":\"white\",\"minorgridcolor\":\"white\",\"startlinecolor\":\"#2a3f5f\"},\"baxis\":{\"endlinecolor\":\"#2a3f5f\",\"gridcolor\":\"white\",\"linecolor\":\"white\",\"minorgridcolor\":\"white\",\"startlinecolor\":\"#2a3f5f\"},\"type\":\"carpet\"}],\"table\":[{\"cells\":{\"fill\":{\"color\":\"#EBF0F8\"},\"line\":{\"color\":\"white\"}},\"header\":{\"fill\":{\"color\":\"#C8D4E3\"},\"line\":{\"color\":\"white\"}},\"type\":\"table\"}],\"barpolar\":[{\"marker\":{\"line\":{\"color\":\"#E5ECF6\",\"width\":0.5},\"pattern\":{\"fillmode\":\"overlay\",\"size\":10,\"solidity\":0.2}},\"type\":\"barpolar\"}],\"pie\":[{\"automargin\":true,\"type\":\"pie\"}]},\"layout\":{\"autotypenumbers\":\"strict\",\"colorway\":[\"#636efa\",\"#EF553B\",\"#00cc96\",\"#ab63fa\",\"#FFA15A\",\"#19d3f3\",\"#FF6692\",\"#B6E880\",\"#FF97FF\",\"#FECB52\"],\"font\":{\"color\":\"#2a3f5f\"},\"hovermode\":\"closest\",\"hoverlabel\":{\"align\":\"left\"},\"paper_bgcolor\":\"white\",\"plot_bgcolor\":\"#E5ECF6\",\"polar\":{\"bgcolor\":\"#E5ECF6\",\"angularaxis\":{\"gridcolor\":\"white\",\"linecolor\":\"white\",\"ticks\":\"\"},\"radialaxis\":{\"gridcolor\":\"white\",\"linecolor\":\"white\",\"ticks\":\"\"}},\"ternary\":{\"bgcolor\":\"#E5ECF6\",\"aaxis\":{\"gridcolor\":\"white\",\"linecolor\":\"white\",\"ticks\":\"\"},\"baxis\":{\"gridcolor\":\"white\",\"linecolor\":\"white\",\"ticks\":\"\"},\"caxis\":{\"gridcolor\":\"white\",\"linecolor\":\"white\",\"ticks\":\"\"}},\"coloraxis\":{\"colorbar\":{\"outlinewidth\":0,\"ticks\":\"\"}},\"colorscale\":{\"sequential\":[[0.0,\"#0d0887\"],[0.1111111111111111,\"#46039f\"],[0.2222222222222222,\"#7201a8\"],[0.3333333333333333,\"#9c179e\"],[0.4444444444444444,\"#bd3786\"],[0.5555555555555556,\"#d8576b\"],[0.6666666666666666,\"#ed7953\"],[0.7777777777777778,\"#fb9f3a\"],[0.8888888888888888,\"#fdca26\"],[1.0,\"#f0f921\"]],\"sequentialminus\":[[0.0,\"#0d0887\"],[0.1111111111111111,\"#46039f\"],[0.2222222222222222,\"#7201a8\"],[0.3333333333333333,\"#9c179e\"],[0.4444444444444444,\"#bd3786\"],[0.5555555555555556,\"#d8576b\"],[0.6666666666666666,\"#ed7953\"],[0.7777777777777778,\"#fb9f3a\"],[0.8888888888888888,\"#fdca26\"],[1.0,\"#f0f921\"]],\"diverging\":[[0,\"#8e0152\"],[0.1,\"#c51b7d\"],[0.2,\"#de77ae\"],[0.3,\"#f1b6da\"],[0.4,\"#fde0ef\"],[0.5,\"#f7f7f7\"],[0.6,\"#e6f5d0\"],[0.7,\"#b8e186\"],[0.8,\"#7fbc41\"],[0.9,\"#4d9221\"],[1,\"#276419\"]]},\"xaxis\":{\"gridcolor\":\"white\",\"linecolor\":\"white\",\"ticks\":\"\",\"title\":{\"standoff\":15},\"zerolinecolor\":\"white\",\"automargin\":true,\"zerolinewidth\":2},\"yaxis\":{\"gridcolor\":\"white\",\"linecolor\":\"white\",\"ticks\":\"\",\"title\":{\"standoff\":15},\"zerolinecolor\":\"white\",\"automargin\":true,\"zerolinewidth\":2},\"scene\":{\"xaxis\":{\"backgroundcolor\":\"#E5ECF6\",\"gridcolor\":\"white\",\"linecolor\":\"white\",\"showbackground\":true,\"ticks\":\"\",\"zerolinecolor\":\"white\",\"gridwidth\":2},\"yaxis\":{\"backgroundcolor\":\"#E5ECF6\",\"gridcolor\":\"white\",\"linecolor\":\"white\",\"showbackground\":true,\"ticks\":\"\",\"zerolinecolor\":\"white\",\"gridwidth\":2},\"zaxis\":{\"backgroundcolor\":\"#E5ECF6\",\"gridcolor\":\"white\",\"linecolor\":\"white\",\"showbackground\":true,\"ticks\":\"\",\"zerolinecolor\":\"white\",\"gridwidth\":2}},\"shapedefaults\":{\"line\":{\"color\":\"#2a3f5f\"}},\"annotationdefaults\":{\"arrowcolor\":\"#2a3f5f\",\"arrowhead\":0,\"arrowwidth\":1},\"geo\":{\"bgcolor\":\"white\",\"landcolor\":\"#E5ECF6\",\"subunitcolor\":\"white\",\"showland\":true,\"showlakes\":true,\"lakecolor\":\"white\"},\"title\":{\"x\":0.05},\"mapbox\":{\"style\":\"light\"}}},\"xaxis\":{\"anchor\":\"y\",\"domain\":[0.0,1.0],\"title\":{\"text\":\"Income (k$)\"}},\"yaxis\":{\"anchor\":\"x\",\"domain\":[0.0,1.0],\"title\":{\"text\":\"Spending Score\"}},\"legend\":{\"title\":{\"text\":\"Cluster_Name\"},\"tracegroupgap\":0,\"orientation\":\"h\",\"yanchor\":\"bottom\",\"y\":1.05,\"xanchor\":\"center\",\"x\":0.5},\"title\":{\"text\":\"Customer Segmentation: Income vs Spending Score\"}},                        {\"responsive\": true}                    ).then(function(){\n",
              "                            \n",
              "var gd = document.getElementById('82179fbd-9f2e-408a-afec-199bbf50833a');\n",
              "var x = new MutationObserver(function (mutations, observer) {{\n",
              "        var display = window.getComputedStyle(gd).display;\n",
              "        if (!display || display === 'none') {{\n",
              "            console.log([gd, 'removed!']);\n",
              "            Plotly.purge(gd);\n",
              "            observer.disconnect();\n",
              "        }}\n",
              "}});\n",
              "\n",
              "// Listen for the removal of the full notebook cells\n",
              "var notebookContainer = gd.closest('#notebook-container');\n",
              "if (notebookContainer) {{\n",
              "    x.observe(notebookContainer, {childList: true});\n",
              "}}\n",
              "\n",
              "// Listen for the clearing of the current output cell\n",
              "var outputEl = gd.closest('.output');\n",
              "if (outputEl) {{\n",
              "    x.observe(outputEl, {childList: true});\n",
              "}}\n",
              "\n",
              "                        })                };                            </script>        </div>\n",
              "</body>\n",
              "</html>"
            ]
          },
          "metadata": {}
        }
      ]
    },
    {
      "cell_type": "markdown",
      "source": [
        "***Creating a scatter plot to visualize customer clusters based on age and spending score across the different segments.***"
      ],
      "metadata": {
        "id": "MDJN4v549P3l"
      }
    },
    {
      "cell_type": "code",
      "source": [
        "import pandas as pd\n",
        "import plotly.express as px\n",
        "from sklearn.cluster import KMeans\n",
        "import numpy as np\n",
        "\n",
        "# Load the data\n",
        "df = pd.read_csv(\"/content/Mall_Customers 2.csv\")\n",
        "\n",
        "# Create clusters using K-means clustering on Age and Spending Score\n",
        "features = df[['Age', 'Spending Score (1-100)']]\n",
        "kmeans = KMeans(n_clusters=4, random_state=42)\n",
        "df['Cluster'] = kmeans.fit_predict(features)\n",
        "\n",
        "# Create meaningful cluster names based on characteristics\n",
        "cluster_names = {\n",
        "    0: 'Young High Spnd',\n",
        "    1: 'Mid Low Spnd',\n",
        "    2: 'Old Low Spnd',\n",
        "    3: 'Young Low Spnd'\n",
        "}\n",
        "\n",
        "# Analyze clusters to assign better names\n",
        "for cluster in range(4):\n",
        "    cluster_data = df[df['Cluster'] == cluster]\n",
        "    avg_age = cluster_data['Age'].mean()\n",
        "    avg_spending = cluster_data['Spending Score (1-100)'].mean()\n",
        "\n",
        "    if avg_age < 35 and avg_spending > 60:\n",
        "        cluster_names[cluster] = 'Young High Spnd'\n",
        "    elif avg_age < 35 and avg_spending <= 60:\n",
        "        cluster_names[cluster] = 'Young Low Spnd'\n",
        "    elif avg_age >= 35 and avg_spending > 60:\n",
        "        cluster_names[cluster] = 'Old High Spnd'\n",
        "    else:\n",
        "        cluster_names[cluster] = 'Old Low Spnd'\n",
        "\n",
        "df['Cluster_Name'] = df['Cluster'].map(cluster_names)\n",
        "\n",
        "# Create scatter plot\n",
        "fig = px.scatter(df,\n",
        "                x='Age',\n",
        "                y='Spending Score (1-100)',\n",
        "                color='Cluster_Name',\n",
        "                title='Customer Clusters: Age vs Spend Score',\n",
        "                color_discrete_sequence=['#1FB8CD', '#DB4545', '#2E8B57', '#5D878F'])\n",
        "\n",
        "# Update traces for medium size and transparency\n",
        "fig.update_traces(marker=dict(size=8, opacity=0.7), cliponaxis=False)\n",
        "\n",
        "# Update axis labels to meet 15 character limit\n",
        "fig.update_xaxes(title_text='Age')\n",
        "fig.update_yaxes(title_text='Spend Score')\n",
        "\n",
        "# Center legend under title since we have 4 items (≤5)\n",
        "fig.update_layout(legend=dict(orientation='h', yanchor='bottom', y=1.05, xanchor='center', x=0.5))\n"
      ],
      "metadata": {
        "colab": {
          "base_uri": "https://localhost:8080/",
          "height": 542
        },
        "id": "OA9N_05G8-W9",
        "outputId": "77e19114-b6d1-4d4f-bc1d-8f58f3a6d01b"
      },
      "execution_count": 36,
      "outputs": [
        {
          "output_type": "display_data",
          "data": {
            "text/html": [
              "<html>\n",
              "<head><meta charset=\"utf-8\" /></head>\n",
              "<body>\n",
              "    <div>            <script src=\"https://cdnjs.cloudflare.com/ajax/libs/mathjax/2.7.5/MathJax.js?config=TeX-AMS-MML_SVG\"></script><script type=\"text/javascript\">if (window.MathJax && window.MathJax.Hub && window.MathJax.Hub.Config) {window.MathJax.Hub.Config({SVG: {font: \"STIX-Web\"}});}</script>                <script type=\"text/javascript\">window.PlotlyConfig = {MathJaxConfig: 'local'};</script>\n",
              "        <script charset=\"utf-8\" src=\"https://cdn.plot.ly/plotly-2.35.2.min.js\"></script>                <div id=\"a6a0b4a0-6923-476e-91e6-8bb4bc5bc177\" class=\"plotly-graph-div\" style=\"height:525px; width:100%;\"></div>            <script type=\"text/javascript\">                                    window.PLOTLYENV=window.PLOTLYENV || {};                                    if (document.getElementById(\"a6a0b4a0-6923-476e-91e6-8bb4bc5bc177\")) {                    Plotly.newPlot(                        \"a6a0b4a0-6923-476e-91e6-8bb4bc5bc177\",                        [{\"hovertemplate\":\"Cluster_Name=Young Low Spnd\\u003cbr\\u003eAge=%{x}\\u003cbr\\u003eSpending Score (1-100)=%{y}\\u003cextra\\u003e\\u003c\\u002fextra\\u003e\",\"legendgroup\":\"Young Low Spnd\",\"marker\":{\"color\":\"#1FB8CD\",\"symbol\":\"circle\",\"opacity\":0.7,\"size\":8},\"mode\":\"markers\",\"name\":\"Young Low Spnd\",\"orientation\":\"v\",\"showlegend\":true,\"x\":[19,31,35,20,35,35,31,24,27,29,31,33,31,27,19,18,19,32,26,40,23,38,21,22,34,18,40,32,24,27,20,23,26,21,19,38,19,18,19,27,38,40,23,25,28,32,41],\"xaxis\":\"x\",\"y\":[39,40,35,66,35,61,61,65,47,42,42,60,54,51,55,59,59,47,54,48,52,55,57,55,60,41,40,42,52,50,49,41,55,42,54,42,46,48,50,56,40,58,29,34,40,63,39],\"yaxis\":\"y\",\"type\":\"scatter\",\"cliponaxis\":false},{\"hovertemplate\":\"Cluster_Name=Young High Spnd\\u003cbr\\u003eAge=%{x}\\u003cbr\\u003eSpending Score (1-100)=%{y}\\u003cextra\\u003e\\u003c\\u002fextra\\u003e\",\"legendgroup\":\"Young High Spnd\",\"marker\":{\"color\":\"#DB4545\",\"symbol\":\"circle\",\"opacity\":0.7,\"size\":8},\"mode\":\"markers\",\"name\":\"Young High Spnd\",\"orientation\":\"v\",\"showlegend\":true,\"x\":[21,23,22,23,30,35,24,22,35,25,31,29,23,21,18,21,30,20,24,39,31,40,38,39,31,29,32,35,32,32,28,32,34,39,38,27,30,30,29,31,36,33,28,36,30,27,35,32,29,30,28,36,32,38,35,32,30],\"xaxis\":\"x\",\"y\":[81,77,76,94,72,99,77,79,98,73,73,82,87,73,92,81,73,75,92,91,77,95,75,75,71,88,73,72,93,87,97,74,90,88,76,89,78,73,83,93,75,95,75,92,86,69,90,86,88,97,68,85,69,91,79,74,83],\"yaxis\":\"y\",\"type\":\"scatter\",\"cliponaxis\":false},{\"hovertemplate\":\"Cluster_Name=Old Low Spnd\\u003cbr\\u003eAge=%{x}\\u003cbr\\u003eSpending Score (1-100)=%{y}\\u003cextra\\u003e\\u003c\\u002fextra\\u003e\",\"legendgroup\":\"Old Low Spnd\",\"marker\":{\"color\":\"#2E8B57\",\"symbol\":\"circle\",\"opacity\":0.7,\"size\":8},\"mode\":\"markers\",\"name\":\"Old Low Spnd\",\"orientation\":\"v\",\"showlegend\":true,\"x\":[20,35,64,67,58,37,52,46,54,45,40,60,53,49,42,36,65,48,49,50,49,59,50,47,51,69,53,70,67,54,63,43,68,70,47,60,60,59,45,49,57,67,46,48,55,50,68,48,47,48,49,67,49,66,54,68,66,65,63,49,51,50,43,59,47,20,44,19,57,25,48,34,43,44,47,37,34,56,19,50,42,36,40,36,52,58,59,37,46,54,41,34,33,47,45,32],\"xaxis\":\"x\",\"y\":[6,6,3,14,15,13,29,5,14,32,31,4,4,14,17,26,35,36,28,55,52,60,45,41,50,46,46,56,52,59,51,50,48,55,42,49,56,47,53,42,51,41,44,46,58,46,55,49,47,42,48,59,56,50,46,43,48,52,43,59,43,57,35,11,9,5,7,10,5,12,36,22,17,20,16,1,1,35,5,26,20,27,13,10,13,15,14,32,15,24,17,23,8,16,28,18],\"yaxis\":\"y\",\"type\":\"scatter\",\"cliponaxis\":false}],                        {\"template\":{\"data\":{\"histogram2dcontour\":[{\"type\":\"histogram2dcontour\",\"colorbar\":{\"outlinewidth\":0,\"ticks\":\"\"},\"colorscale\":[[0.0,\"#0d0887\"],[0.1111111111111111,\"#46039f\"],[0.2222222222222222,\"#7201a8\"],[0.3333333333333333,\"#9c179e\"],[0.4444444444444444,\"#bd3786\"],[0.5555555555555556,\"#d8576b\"],[0.6666666666666666,\"#ed7953\"],[0.7777777777777778,\"#fb9f3a\"],[0.8888888888888888,\"#fdca26\"],[1.0,\"#f0f921\"]]}],\"choropleth\":[{\"type\":\"choropleth\",\"colorbar\":{\"outlinewidth\":0,\"ticks\":\"\"}}],\"histogram2d\":[{\"type\":\"histogram2d\",\"colorbar\":{\"outlinewidth\":0,\"ticks\":\"\"},\"colorscale\":[[0.0,\"#0d0887\"],[0.1111111111111111,\"#46039f\"],[0.2222222222222222,\"#7201a8\"],[0.3333333333333333,\"#9c179e\"],[0.4444444444444444,\"#bd3786\"],[0.5555555555555556,\"#d8576b\"],[0.6666666666666666,\"#ed7953\"],[0.7777777777777778,\"#fb9f3a\"],[0.8888888888888888,\"#fdca26\"],[1.0,\"#f0f921\"]]}],\"heatmap\":[{\"type\":\"heatmap\",\"colorbar\":{\"outlinewidth\":0,\"ticks\":\"\"},\"colorscale\":[[0.0,\"#0d0887\"],[0.1111111111111111,\"#46039f\"],[0.2222222222222222,\"#7201a8\"],[0.3333333333333333,\"#9c179e\"],[0.4444444444444444,\"#bd3786\"],[0.5555555555555556,\"#d8576b\"],[0.6666666666666666,\"#ed7953\"],[0.7777777777777778,\"#fb9f3a\"],[0.8888888888888888,\"#fdca26\"],[1.0,\"#f0f921\"]]}],\"heatmapgl\":[{\"type\":\"heatmapgl\",\"colorbar\":{\"outlinewidth\":0,\"ticks\":\"\"},\"colorscale\":[[0.0,\"#0d0887\"],[0.1111111111111111,\"#46039f\"],[0.2222222222222222,\"#7201a8\"],[0.3333333333333333,\"#9c179e\"],[0.4444444444444444,\"#bd3786\"],[0.5555555555555556,\"#d8576b\"],[0.6666666666666666,\"#ed7953\"],[0.7777777777777778,\"#fb9f3a\"],[0.8888888888888888,\"#fdca26\"],[1.0,\"#f0f921\"]]}],\"contourcarpet\":[{\"type\":\"contourcarpet\",\"colorbar\":{\"outlinewidth\":0,\"ticks\":\"\"}}],\"contour\":[{\"type\":\"contour\",\"colorbar\":{\"outlinewidth\":0,\"ticks\":\"\"},\"colorscale\":[[0.0,\"#0d0887\"],[0.1111111111111111,\"#46039f\"],[0.2222222222222222,\"#7201a8\"],[0.3333333333333333,\"#9c179e\"],[0.4444444444444444,\"#bd3786\"],[0.5555555555555556,\"#d8576b\"],[0.6666666666666666,\"#ed7953\"],[0.7777777777777778,\"#fb9f3a\"],[0.8888888888888888,\"#fdca26\"],[1.0,\"#f0f921\"]]}],\"surface\":[{\"type\":\"surface\",\"colorbar\":{\"outlinewidth\":0,\"ticks\":\"\"},\"colorscale\":[[0.0,\"#0d0887\"],[0.1111111111111111,\"#46039f\"],[0.2222222222222222,\"#7201a8\"],[0.3333333333333333,\"#9c179e\"],[0.4444444444444444,\"#bd3786\"],[0.5555555555555556,\"#d8576b\"],[0.6666666666666666,\"#ed7953\"],[0.7777777777777778,\"#fb9f3a\"],[0.8888888888888888,\"#fdca26\"],[1.0,\"#f0f921\"]]}],\"mesh3d\":[{\"type\":\"mesh3d\",\"colorbar\":{\"outlinewidth\":0,\"ticks\":\"\"}}],\"scatter\":[{\"fillpattern\":{\"fillmode\":\"overlay\",\"size\":10,\"solidity\":0.2},\"type\":\"scatter\"}],\"parcoords\":[{\"type\":\"parcoords\",\"line\":{\"colorbar\":{\"outlinewidth\":0,\"ticks\":\"\"}}}],\"scatterpolargl\":[{\"type\":\"scatterpolargl\",\"marker\":{\"colorbar\":{\"outlinewidth\":0,\"ticks\":\"\"}}}],\"bar\":[{\"error_x\":{\"color\":\"#2a3f5f\"},\"error_y\":{\"color\":\"#2a3f5f\"},\"marker\":{\"line\":{\"color\":\"#E5ECF6\",\"width\":0.5},\"pattern\":{\"fillmode\":\"overlay\",\"size\":10,\"solidity\":0.2}},\"type\":\"bar\"}],\"scattergeo\":[{\"type\":\"scattergeo\",\"marker\":{\"colorbar\":{\"outlinewidth\":0,\"ticks\":\"\"}}}],\"scatterpolar\":[{\"type\":\"scatterpolar\",\"marker\":{\"colorbar\":{\"outlinewidth\":0,\"ticks\":\"\"}}}],\"histogram\":[{\"marker\":{\"pattern\":{\"fillmode\":\"overlay\",\"size\":10,\"solidity\":0.2}},\"type\":\"histogram\"}],\"scattergl\":[{\"type\":\"scattergl\",\"marker\":{\"colorbar\":{\"outlinewidth\":0,\"ticks\":\"\"}}}],\"scatter3d\":[{\"type\":\"scatter3d\",\"line\":{\"colorbar\":{\"outlinewidth\":0,\"ticks\":\"\"}},\"marker\":{\"colorbar\":{\"outlinewidth\":0,\"ticks\":\"\"}}}],\"scattermapbox\":[{\"type\":\"scattermapbox\",\"marker\":{\"colorbar\":{\"outlinewidth\":0,\"ticks\":\"\"}}}],\"scatterternary\":[{\"type\":\"scatterternary\",\"marker\":{\"colorbar\":{\"outlinewidth\":0,\"ticks\":\"\"}}}],\"scattercarpet\":[{\"type\":\"scattercarpet\",\"marker\":{\"colorbar\":{\"outlinewidth\":0,\"ticks\":\"\"}}}],\"carpet\":[{\"aaxis\":{\"endlinecolor\":\"#2a3f5f\",\"gridcolor\":\"white\",\"linecolor\":\"white\",\"minorgridcolor\":\"white\",\"startlinecolor\":\"#2a3f5f\"},\"baxis\":{\"endlinecolor\":\"#2a3f5f\",\"gridcolor\":\"white\",\"linecolor\":\"white\",\"minorgridcolor\":\"white\",\"startlinecolor\":\"#2a3f5f\"},\"type\":\"carpet\"}],\"table\":[{\"cells\":{\"fill\":{\"color\":\"#EBF0F8\"},\"line\":{\"color\":\"white\"}},\"header\":{\"fill\":{\"color\":\"#C8D4E3\"},\"line\":{\"color\":\"white\"}},\"type\":\"table\"}],\"barpolar\":[{\"marker\":{\"line\":{\"color\":\"#E5ECF6\",\"width\":0.5},\"pattern\":{\"fillmode\":\"overlay\",\"size\":10,\"solidity\":0.2}},\"type\":\"barpolar\"}],\"pie\":[{\"automargin\":true,\"type\":\"pie\"}]},\"layout\":{\"autotypenumbers\":\"strict\",\"colorway\":[\"#636efa\",\"#EF553B\",\"#00cc96\",\"#ab63fa\",\"#FFA15A\",\"#19d3f3\",\"#FF6692\",\"#B6E880\",\"#FF97FF\",\"#FECB52\"],\"font\":{\"color\":\"#2a3f5f\"},\"hovermode\":\"closest\",\"hoverlabel\":{\"align\":\"left\"},\"paper_bgcolor\":\"white\",\"plot_bgcolor\":\"#E5ECF6\",\"polar\":{\"bgcolor\":\"#E5ECF6\",\"angularaxis\":{\"gridcolor\":\"white\",\"linecolor\":\"white\",\"ticks\":\"\"},\"radialaxis\":{\"gridcolor\":\"white\",\"linecolor\":\"white\",\"ticks\":\"\"}},\"ternary\":{\"bgcolor\":\"#E5ECF6\",\"aaxis\":{\"gridcolor\":\"white\",\"linecolor\":\"white\",\"ticks\":\"\"},\"baxis\":{\"gridcolor\":\"white\",\"linecolor\":\"white\",\"ticks\":\"\"},\"caxis\":{\"gridcolor\":\"white\",\"linecolor\":\"white\",\"ticks\":\"\"}},\"coloraxis\":{\"colorbar\":{\"outlinewidth\":0,\"ticks\":\"\"}},\"colorscale\":{\"sequential\":[[0.0,\"#0d0887\"],[0.1111111111111111,\"#46039f\"],[0.2222222222222222,\"#7201a8\"],[0.3333333333333333,\"#9c179e\"],[0.4444444444444444,\"#bd3786\"],[0.5555555555555556,\"#d8576b\"],[0.6666666666666666,\"#ed7953\"],[0.7777777777777778,\"#fb9f3a\"],[0.8888888888888888,\"#fdca26\"],[1.0,\"#f0f921\"]],\"sequentialminus\":[[0.0,\"#0d0887\"],[0.1111111111111111,\"#46039f\"],[0.2222222222222222,\"#7201a8\"],[0.3333333333333333,\"#9c179e\"],[0.4444444444444444,\"#bd3786\"],[0.5555555555555556,\"#d8576b\"],[0.6666666666666666,\"#ed7953\"],[0.7777777777777778,\"#fb9f3a\"],[0.8888888888888888,\"#fdca26\"],[1.0,\"#f0f921\"]],\"diverging\":[[0,\"#8e0152\"],[0.1,\"#c51b7d\"],[0.2,\"#de77ae\"],[0.3,\"#f1b6da\"],[0.4,\"#fde0ef\"],[0.5,\"#f7f7f7\"],[0.6,\"#e6f5d0\"],[0.7,\"#b8e186\"],[0.8,\"#7fbc41\"],[0.9,\"#4d9221\"],[1,\"#276419\"]]},\"xaxis\":{\"gridcolor\":\"white\",\"linecolor\":\"white\",\"ticks\":\"\",\"title\":{\"standoff\":15},\"zerolinecolor\":\"white\",\"automargin\":true,\"zerolinewidth\":2},\"yaxis\":{\"gridcolor\":\"white\",\"linecolor\":\"white\",\"ticks\":\"\",\"title\":{\"standoff\":15},\"zerolinecolor\":\"white\",\"automargin\":true,\"zerolinewidth\":2},\"scene\":{\"xaxis\":{\"backgroundcolor\":\"#E5ECF6\",\"gridcolor\":\"white\",\"linecolor\":\"white\",\"showbackground\":true,\"ticks\":\"\",\"zerolinecolor\":\"white\",\"gridwidth\":2},\"yaxis\":{\"backgroundcolor\":\"#E5ECF6\",\"gridcolor\":\"white\",\"linecolor\":\"white\",\"showbackground\":true,\"ticks\":\"\",\"zerolinecolor\":\"white\",\"gridwidth\":2},\"zaxis\":{\"backgroundcolor\":\"#E5ECF6\",\"gridcolor\":\"white\",\"linecolor\":\"white\",\"showbackground\":true,\"ticks\":\"\",\"zerolinecolor\":\"white\",\"gridwidth\":2}},\"shapedefaults\":{\"line\":{\"color\":\"#2a3f5f\"}},\"annotationdefaults\":{\"arrowcolor\":\"#2a3f5f\",\"arrowhead\":0,\"arrowwidth\":1},\"geo\":{\"bgcolor\":\"white\",\"landcolor\":\"#E5ECF6\",\"subunitcolor\":\"white\",\"showland\":true,\"showlakes\":true,\"lakecolor\":\"white\"},\"title\":{\"x\":0.05},\"mapbox\":{\"style\":\"light\"}}},\"xaxis\":{\"anchor\":\"y\",\"domain\":[0.0,1.0],\"title\":{\"text\":\"Age\"}},\"yaxis\":{\"anchor\":\"x\",\"domain\":[0.0,1.0],\"title\":{\"text\":\"Spend Score\"}},\"legend\":{\"title\":{\"text\":\"Cluster_Name\"},\"tracegroupgap\":0,\"orientation\":\"h\",\"yanchor\":\"bottom\",\"y\":1.05,\"xanchor\":\"center\",\"x\":0.5},\"title\":{\"text\":\"Customer Clusters: Age vs Spend Score\"}},                        {\"responsive\": true}                    ).then(function(){\n",
              "                            \n",
              "var gd = document.getElementById('a6a0b4a0-6923-476e-91e6-8bb4bc5bc177');\n",
              "var x = new MutationObserver(function (mutations, observer) {{\n",
              "        var display = window.getComputedStyle(gd).display;\n",
              "        if (!display || display === 'none') {{\n",
              "            console.log([gd, 'removed!']);\n",
              "            Plotly.purge(gd);\n",
              "            observer.disconnect();\n",
              "        }}\n",
              "}});\n",
              "\n",
              "// Listen for the removal of the full notebook cells\n",
              "var notebookContainer = gd.closest('#notebook-container');\n",
              "if (notebookContainer) {{\n",
              "    x.observe(notebookContainer, {childList: true});\n",
              "}}\n",
              "\n",
              "// Listen for the clearing of the current output cell\n",
              "var outputEl = gd.closest('.output');\n",
              "if (outputEl) {{\n",
              "    x.observe(outputEl, {childList: true});\n",
              "}}\n",
              "\n",
              "                        })                };                            </script>        </div>\n",
              "</body>\n",
              "</html>"
            ]
          },
          "metadata": {}
        }
      ]
    },
    {
      "cell_type": "markdown",
      "source": [
        "***Grouped bar chart comparing the average characteristics of each customer cluster across age, income, and spending score metrics.***"
      ],
      "metadata": {
        "id": "HdtsUx4G9gRA"
      }
    },
    {
      "cell_type": "code",
      "source": [
        "import pandas as pd\n",
        "import plotly.graph_objects as go\n",
        "from sklearn.cluster import KMeans\n",
        "import numpy as np\n",
        "\n",
        "# Load the data\n",
        "df = pd.read_csv(\"/content/Mall_Customers 2.csv\")\n",
        "\n",
        "# Prepare features for clustering (using Age, Income, and Spending Score)\n",
        "features = df[['Age', 'Annual Income (k$)', 'Spending Score (1-100)']]\n",
        "\n",
        "# Perform K-means clustering with 5 clusters\n",
        "kmeans = KMeans(n_clusters=5, random_state=42)\n",
        "df['Cluster'] = kmeans.fit_predict(features)\n",
        "\n",
        "# Calculate cluster summaries\n",
        "cluster_summary = df.groupby('Cluster').agg({\n",
        "    'Age': 'mean',\n",
        "    'Annual Income (k$)': 'mean',\n",
        "    'Spending Score (1-100)': 'mean'\n",
        "}).reset_index()\n",
        "\n",
        "# Create cluster names\n",
        "cluster_names = ['Budget Conscious', 'Young Spenders', 'Moderate Income', 'High Value', 'Low Engagement']\n",
        "cluster_summary['Cluster_Name'] = cluster_names\n",
        "\n",
        "# Scale age to make it more comparable (multiply by a factor to bring it in similar range)\n",
        "cluster_summary['Scaled_Age'] = cluster_summary['Age'] * 2\n",
        "\n",
        "print(\"Cluster Summary:\")\n",
        "print(cluster_summary)\n",
        "\n",
        "# Create grouped bar chart\n",
        "fig = go.Figure()\n",
        "\n",
        "# Add bars for each metric\n",
        "fig.add_trace(go.Bar(\n",
        "    name='Scaled Age',\n",
        "    x=cluster_summary['Cluster_Name'],\n",
        "    y=cluster_summary['Scaled_Age'],\n",
        "    marker_color='#1FB8CD'\n",
        "))\n",
        "\n",
        "fig.add_trace(go.Bar(\n",
        "    name='Avg Income',\n",
        "    x=cluster_summary['Cluster_Name'],\n",
        "    y=cluster_summary['Annual Income (k$)'],\n",
        "    marker_color='#DB4545'\n",
        "))\n",
        "\n",
        "fig.add_trace(go.Bar(\n",
        "    name='Avg Spending',\n",
        "    x=cluster_summary['Cluster_Name'],\n",
        "    y=cluster_summary['Spending Score (1-100)'],\n",
        "    marker_color='#2E8B57'\n",
        "))\n",
        "\n",
        "# Update layout\n",
        "fig.update_layout(\n",
        "    title='Customer Cluster Comparison',\n",
        "    xaxis_title='Cluster',\n",
        "    yaxis_title='Value',\n",
        "    barmode='group',\n",
        "    legend=dict(orientation='h', yanchor='bottom', y=1.05, xanchor='center', x=0.5)\n",
        ")\n",
        "\n",
        "# Update traces\n",
        "fig.update_traces(cliponaxis=False)\n",
        "\n"
      ],
      "metadata": {
        "colab": {
          "base_uri": "https://localhost:8080/",
          "height": 792
        },
        "id": "CdhE3Lci9m3Z",
        "outputId": "537cb076-62e3-4460-8495-35ba7b49bd34"
      },
      "execution_count": 37,
      "outputs": [
        {
          "output_type": "stream",
          "name": "stdout",
          "text": [
            "Cluster Summary:\n",
            "   Cluster        Age  Annual Income (k$)  Spending Score (1-100)  \\\n",
            "0        0  46.213483           47.719101               41.797753   \n",
            "1        1  32.454545          108.181818               82.727273   \n",
            "2        2  24.689655           29.586207               73.655172   \n",
            "3        3  40.394737           87.000000               18.631579   \n",
            "4        4  31.787879           76.090909               77.757576   \n",
            "\n",
            "       Cluster_Name  Scaled_Age  \n",
            "0  Budget Conscious   92.426966  \n",
            "1    Young Spenders   64.909091  \n",
            "2   Moderate Income   49.379310  \n",
            "3        High Value   80.789474  \n",
            "4    Low Engagement   63.575758  \n"
          ]
        },
        {
          "output_type": "display_data",
          "data": {
            "text/html": [
              "<html>\n",
              "<head><meta charset=\"utf-8\" /></head>\n",
              "<body>\n",
              "    <div>            <script src=\"https://cdnjs.cloudflare.com/ajax/libs/mathjax/2.7.5/MathJax.js?config=TeX-AMS-MML_SVG\"></script><script type=\"text/javascript\">if (window.MathJax && window.MathJax.Hub && window.MathJax.Hub.Config) {window.MathJax.Hub.Config({SVG: {font: \"STIX-Web\"}});}</script>                <script type=\"text/javascript\">window.PlotlyConfig = {MathJaxConfig: 'local'};</script>\n",
              "        <script charset=\"utf-8\" src=\"https://cdn.plot.ly/plotly-2.35.2.min.js\"></script>                <div id=\"d1c8ec9a-5747-4056-9fb1-6698372ccef4\" class=\"plotly-graph-div\" style=\"height:525px; width:100%;\"></div>            <script type=\"text/javascript\">                                    window.PLOTLYENV=window.PLOTLYENV || {};                                    if (document.getElementById(\"d1c8ec9a-5747-4056-9fb1-6698372ccef4\")) {                    Plotly.newPlot(                        \"d1c8ec9a-5747-4056-9fb1-6698372ccef4\",                        [{\"marker\":{\"color\":\"#1FB8CD\"},\"name\":\"Scaled Age\",\"x\":[\"Budget Conscious\",\"Young Spenders\",\"Moderate Income\",\"High Value\",\"Low Engagement\"],\"y\":[92.42696629213484,64.9090909090909,49.37931034482759,80.78947368421052,63.57575757575758],\"type\":\"bar\",\"cliponaxis\":false},{\"marker\":{\"color\":\"#DB4545\"},\"name\":\"Avg Income\",\"x\":[\"Budget Conscious\",\"Young Spenders\",\"Moderate Income\",\"High Value\",\"Low Engagement\"],\"y\":[47.71910112359551,108.18181818181819,29.586206896551722,87.0,76.0909090909091],\"type\":\"bar\",\"cliponaxis\":false},{\"marker\":{\"color\":\"#2E8B57\"},\"name\":\"Avg Spending\",\"x\":[\"Budget Conscious\",\"Young Spenders\",\"Moderate Income\",\"High Value\",\"Low Engagement\"],\"y\":[41.79775280898876,82.72727272727273,73.65517241379311,18.63157894736842,77.75757575757575],\"type\":\"bar\",\"cliponaxis\":false}],                        {\"template\":{\"data\":{\"histogram2dcontour\":[{\"type\":\"histogram2dcontour\",\"colorbar\":{\"outlinewidth\":0,\"ticks\":\"\"},\"colorscale\":[[0.0,\"#0d0887\"],[0.1111111111111111,\"#46039f\"],[0.2222222222222222,\"#7201a8\"],[0.3333333333333333,\"#9c179e\"],[0.4444444444444444,\"#bd3786\"],[0.5555555555555556,\"#d8576b\"],[0.6666666666666666,\"#ed7953\"],[0.7777777777777778,\"#fb9f3a\"],[0.8888888888888888,\"#fdca26\"],[1.0,\"#f0f921\"]]}],\"choropleth\":[{\"type\":\"choropleth\",\"colorbar\":{\"outlinewidth\":0,\"ticks\":\"\"}}],\"histogram2d\":[{\"type\":\"histogram2d\",\"colorbar\":{\"outlinewidth\":0,\"ticks\":\"\"},\"colorscale\":[[0.0,\"#0d0887\"],[0.1111111111111111,\"#46039f\"],[0.2222222222222222,\"#7201a8\"],[0.3333333333333333,\"#9c179e\"],[0.4444444444444444,\"#bd3786\"],[0.5555555555555556,\"#d8576b\"],[0.6666666666666666,\"#ed7953\"],[0.7777777777777778,\"#fb9f3a\"],[0.8888888888888888,\"#fdca26\"],[1.0,\"#f0f921\"]]}],\"heatmap\":[{\"type\":\"heatmap\",\"colorbar\":{\"outlinewidth\":0,\"ticks\":\"\"},\"colorscale\":[[0.0,\"#0d0887\"],[0.1111111111111111,\"#46039f\"],[0.2222222222222222,\"#7201a8\"],[0.3333333333333333,\"#9c179e\"],[0.4444444444444444,\"#bd3786\"],[0.5555555555555556,\"#d8576b\"],[0.6666666666666666,\"#ed7953\"],[0.7777777777777778,\"#fb9f3a\"],[0.8888888888888888,\"#fdca26\"],[1.0,\"#f0f921\"]]}],\"heatmapgl\":[{\"type\":\"heatmapgl\",\"colorbar\":{\"outlinewidth\":0,\"ticks\":\"\"},\"colorscale\":[[0.0,\"#0d0887\"],[0.1111111111111111,\"#46039f\"],[0.2222222222222222,\"#7201a8\"],[0.3333333333333333,\"#9c179e\"],[0.4444444444444444,\"#bd3786\"],[0.5555555555555556,\"#d8576b\"],[0.6666666666666666,\"#ed7953\"],[0.7777777777777778,\"#fb9f3a\"],[0.8888888888888888,\"#fdca26\"],[1.0,\"#f0f921\"]]}],\"contourcarpet\":[{\"type\":\"contourcarpet\",\"colorbar\":{\"outlinewidth\":0,\"ticks\":\"\"}}],\"contour\":[{\"type\":\"contour\",\"colorbar\":{\"outlinewidth\":0,\"ticks\":\"\"},\"colorscale\":[[0.0,\"#0d0887\"],[0.1111111111111111,\"#46039f\"],[0.2222222222222222,\"#7201a8\"],[0.3333333333333333,\"#9c179e\"],[0.4444444444444444,\"#bd3786\"],[0.5555555555555556,\"#d8576b\"],[0.6666666666666666,\"#ed7953\"],[0.7777777777777778,\"#fb9f3a\"],[0.8888888888888888,\"#fdca26\"],[1.0,\"#f0f921\"]]}],\"surface\":[{\"type\":\"surface\",\"colorbar\":{\"outlinewidth\":0,\"ticks\":\"\"},\"colorscale\":[[0.0,\"#0d0887\"],[0.1111111111111111,\"#46039f\"],[0.2222222222222222,\"#7201a8\"],[0.3333333333333333,\"#9c179e\"],[0.4444444444444444,\"#bd3786\"],[0.5555555555555556,\"#d8576b\"],[0.6666666666666666,\"#ed7953\"],[0.7777777777777778,\"#fb9f3a\"],[0.8888888888888888,\"#fdca26\"],[1.0,\"#f0f921\"]]}],\"mesh3d\":[{\"type\":\"mesh3d\",\"colorbar\":{\"outlinewidth\":0,\"ticks\":\"\"}}],\"scatter\":[{\"fillpattern\":{\"fillmode\":\"overlay\",\"size\":10,\"solidity\":0.2},\"type\":\"scatter\"}],\"parcoords\":[{\"type\":\"parcoords\",\"line\":{\"colorbar\":{\"outlinewidth\":0,\"ticks\":\"\"}}}],\"scatterpolargl\":[{\"type\":\"scatterpolargl\",\"marker\":{\"colorbar\":{\"outlinewidth\":0,\"ticks\":\"\"}}}],\"bar\":[{\"error_x\":{\"color\":\"#2a3f5f\"},\"error_y\":{\"color\":\"#2a3f5f\"},\"marker\":{\"line\":{\"color\":\"#E5ECF6\",\"width\":0.5},\"pattern\":{\"fillmode\":\"overlay\",\"size\":10,\"solidity\":0.2}},\"type\":\"bar\"}],\"scattergeo\":[{\"type\":\"scattergeo\",\"marker\":{\"colorbar\":{\"outlinewidth\":0,\"ticks\":\"\"}}}],\"scatterpolar\":[{\"type\":\"scatterpolar\",\"marker\":{\"colorbar\":{\"outlinewidth\":0,\"ticks\":\"\"}}}],\"histogram\":[{\"marker\":{\"pattern\":{\"fillmode\":\"overlay\",\"size\":10,\"solidity\":0.2}},\"type\":\"histogram\"}],\"scattergl\":[{\"type\":\"scattergl\",\"marker\":{\"colorbar\":{\"outlinewidth\":0,\"ticks\":\"\"}}}],\"scatter3d\":[{\"type\":\"scatter3d\",\"line\":{\"colorbar\":{\"outlinewidth\":0,\"ticks\":\"\"}},\"marker\":{\"colorbar\":{\"outlinewidth\":0,\"ticks\":\"\"}}}],\"scattermapbox\":[{\"type\":\"scattermapbox\",\"marker\":{\"colorbar\":{\"outlinewidth\":0,\"ticks\":\"\"}}}],\"scatterternary\":[{\"type\":\"scatterternary\",\"marker\":{\"colorbar\":{\"outlinewidth\":0,\"ticks\":\"\"}}}],\"scattercarpet\":[{\"type\":\"scattercarpet\",\"marker\":{\"colorbar\":{\"outlinewidth\":0,\"ticks\":\"\"}}}],\"carpet\":[{\"aaxis\":{\"endlinecolor\":\"#2a3f5f\",\"gridcolor\":\"white\",\"linecolor\":\"white\",\"minorgridcolor\":\"white\",\"startlinecolor\":\"#2a3f5f\"},\"baxis\":{\"endlinecolor\":\"#2a3f5f\",\"gridcolor\":\"white\",\"linecolor\":\"white\",\"minorgridcolor\":\"white\",\"startlinecolor\":\"#2a3f5f\"},\"type\":\"carpet\"}],\"table\":[{\"cells\":{\"fill\":{\"color\":\"#EBF0F8\"},\"line\":{\"color\":\"white\"}},\"header\":{\"fill\":{\"color\":\"#C8D4E3\"},\"line\":{\"color\":\"white\"}},\"type\":\"table\"}],\"barpolar\":[{\"marker\":{\"line\":{\"color\":\"#E5ECF6\",\"width\":0.5},\"pattern\":{\"fillmode\":\"overlay\",\"size\":10,\"solidity\":0.2}},\"type\":\"barpolar\"}],\"pie\":[{\"automargin\":true,\"type\":\"pie\"}]},\"layout\":{\"autotypenumbers\":\"strict\",\"colorway\":[\"#636efa\",\"#EF553B\",\"#00cc96\",\"#ab63fa\",\"#FFA15A\",\"#19d3f3\",\"#FF6692\",\"#B6E880\",\"#FF97FF\",\"#FECB52\"],\"font\":{\"color\":\"#2a3f5f\"},\"hovermode\":\"closest\",\"hoverlabel\":{\"align\":\"left\"},\"paper_bgcolor\":\"white\",\"plot_bgcolor\":\"#E5ECF6\",\"polar\":{\"bgcolor\":\"#E5ECF6\",\"angularaxis\":{\"gridcolor\":\"white\",\"linecolor\":\"white\",\"ticks\":\"\"},\"radialaxis\":{\"gridcolor\":\"white\",\"linecolor\":\"white\",\"ticks\":\"\"}},\"ternary\":{\"bgcolor\":\"#E5ECF6\",\"aaxis\":{\"gridcolor\":\"white\",\"linecolor\":\"white\",\"ticks\":\"\"},\"baxis\":{\"gridcolor\":\"white\",\"linecolor\":\"white\",\"ticks\":\"\"},\"caxis\":{\"gridcolor\":\"white\",\"linecolor\":\"white\",\"ticks\":\"\"}},\"coloraxis\":{\"colorbar\":{\"outlinewidth\":0,\"ticks\":\"\"}},\"colorscale\":{\"sequential\":[[0.0,\"#0d0887\"],[0.1111111111111111,\"#46039f\"],[0.2222222222222222,\"#7201a8\"],[0.3333333333333333,\"#9c179e\"],[0.4444444444444444,\"#bd3786\"],[0.5555555555555556,\"#d8576b\"],[0.6666666666666666,\"#ed7953\"],[0.7777777777777778,\"#fb9f3a\"],[0.8888888888888888,\"#fdca26\"],[1.0,\"#f0f921\"]],\"sequentialminus\":[[0.0,\"#0d0887\"],[0.1111111111111111,\"#46039f\"],[0.2222222222222222,\"#7201a8\"],[0.3333333333333333,\"#9c179e\"],[0.4444444444444444,\"#bd3786\"],[0.5555555555555556,\"#d8576b\"],[0.6666666666666666,\"#ed7953\"],[0.7777777777777778,\"#fb9f3a\"],[0.8888888888888888,\"#fdca26\"],[1.0,\"#f0f921\"]],\"diverging\":[[0,\"#8e0152\"],[0.1,\"#c51b7d\"],[0.2,\"#de77ae\"],[0.3,\"#f1b6da\"],[0.4,\"#fde0ef\"],[0.5,\"#f7f7f7\"],[0.6,\"#e6f5d0\"],[0.7,\"#b8e186\"],[0.8,\"#7fbc41\"],[0.9,\"#4d9221\"],[1,\"#276419\"]]},\"xaxis\":{\"gridcolor\":\"white\",\"linecolor\":\"white\",\"ticks\":\"\",\"title\":{\"standoff\":15},\"zerolinecolor\":\"white\",\"automargin\":true,\"zerolinewidth\":2},\"yaxis\":{\"gridcolor\":\"white\",\"linecolor\":\"white\",\"ticks\":\"\",\"title\":{\"standoff\":15},\"zerolinecolor\":\"white\",\"automargin\":true,\"zerolinewidth\":2},\"scene\":{\"xaxis\":{\"backgroundcolor\":\"#E5ECF6\",\"gridcolor\":\"white\",\"linecolor\":\"white\",\"showbackground\":true,\"ticks\":\"\",\"zerolinecolor\":\"white\",\"gridwidth\":2},\"yaxis\":{\"backgroundcolor\":\"#E5ECF6\",\"gridcolor\":\"white\",\"linecolor\":\"white\",\"showbackground\":true,\"ticks\":\"\",\"zerolinecolor\":\"white\",\"gridwidth\":2},\"zaxis\":{\"backgroundcolor\":\"#E5ECF6\",\"gridcolor\":\"white\",\"linecolor\":\"white\",\"showbackground\":true,\"ticks\":\"\",\"zerolinecolor\":\"white\",\"gridwidth\":2}},\"shapedefaults\":{\"line\":{\"color\":\"#2a3f5f\"}},\"annotationdefaults\":{\"arrowcolor\":\"#2a3f5f\",\"arrowhead\":0,\"arrowwidth\":1},\"geo\":{\"bgcolor\":\"white\",\"landcolor\":\"#E5ECF6\",\"subunitcolor\":\"white\",\"showland\":true,\"showlakes\":true,\"lakecolor\":\"white\"},\"title\":{\"x\":0.05},\"mapbox\":{\"style\":\"light\"}}},\"legend\":{\"orientation\":\"h\",\"yanchor\":\"bottom\",\"y\":1.05,\"xanchor\":\"center\",\"x\":0.5},\"title\":{\"text\":\"Customer Cluster Comparison\"},\"xaxis\":{\"title\":{\"text\":\"Cluster\"}},\"yaxis\":{\"title\":{\"text\":\"Value\"}},\"barmode\":\"group\"},                        {\"responsive\": true}                    ).then(function(){\n",
              "                            \n",
              "var gd = document.getElementById('d1c8ec9a-5747-4056-9fb1-6698372ccef4');\n",
              "var x = new MutationObserver(function (mutations, observer) {{\n",
              "        var display = window.getComputedStyle(gd).display;\n",
              "        if (!display || display === 'none') {{\n",
              "            console.log([gd, 'removed!']);\n",
              "            Plotly.purge(gd);\n",
              "            observer.disconnect();\n",
              "        }}\n",
              "}});\n",
              "\n",
              "// Listen for the removal of the full notebook cells\n",
              "var notebookContainer = gd.closest('#notebook-container');\n",
              "if (notebookContainer) {{\n",
              "    x.observe(notebookContainer, {childList: true});\n",
              "}}\n",
              "\n",
              "// Listen for the clearing of the current output cell\n",
              "var outputEl = gd.closest('.output');\n",
              "if (outputEl) {{\n",
              "    x.observe(outputEl, {childList: true});\n",
              "}}\n",
              "\n",
              "                        })                };                            </script>        </div>\n",
              "</body>\n",
              "</html>"
            ]
          },
          "metadata": {}
        }
      ]
    }
  ]
}